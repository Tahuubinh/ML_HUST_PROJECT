{
 "cells": [
  {
   "cell_type": "code",
   "execution_count": 1,
   "id": "b4f130b1",
   "metadata": {},
   "outputs": [],
   "source": [
    "import numpy as np\n",
    "\n",
    "from sklearn.datasets import load_iris\n",
    "from sklearn.preprocessing import LabelBinarizer\n",
    "from sklearn.model_selection import train_test_split \n",
    "from sklearn.metrics import classification_report\n",
    "from sklearn.preprocessing import OneHotEncoder\n",
    "from sklearn import metrics\n",
    "from sklearn.naive_bayes import GaussianNB, ComplementNB, MultinomialNB, CategoricalNB, BernoulliNB\n",
    "import pandas as pd\n",
    "from matplotlib import pyplot as plt"
   ]
  },
  {
   "cell_type": "code",
   "execution_count": 2,
   "id": "020ae77d",
   "metadata": {},
   "outputs": [],
   "source": [
    "def getData(num_samples):\n",
    "    save_folder = 'train_0.5_valid_0.7_test'\n",
    "    train_data = pd.read_csv('../data/' + save_folder + '/train_data_' + str(num_samples) + '_NaNmean.csv')\n",
    "    X_train = train_data.drop(['Species'], axis = 1).values\n",
    "    y_train = train_data[['Species']].copy().values\n",
    "    valid_data = pd.read_csv('../data/' + save_folder + '/valid_data_NaNmean.csv')\n",
    "    X_valid = valid_data.drop(['Species'], axis = 1).values\n",
    "    y_valid = valid_data[['Species']].copy().values\n",
    "\n",
    "#     y_train = np.squeeze(y_train)\n",
    "#     n_values = np.max(y_train) + 1\n",
    "#     y_train = np.eye(n_values)[y_train]\n",
    "\n",
    "#     y_valid = np.squeeze(y_valid)\n",
    "#     n_values = np.max(y_valid) + 1\n",
    "#     y_valid = np.eye(n_values)[y_valid]\n",
    "    return X_train, y_train, X_valid, y_valid\n",
    "\n",
    "def getDataNormalization(num_samples):\n",
    "    save_folder = 'train_0.5_valid_0.7_test'\n",
    "    train_data = pd.read_csv('../data/' + save_folder + '/train_data_' + str(num_samples) + '_Normalization.csv')\n",
    "    #X_train = train_data.drop(['Species', 'Culmen Length (mm)'], axis = 1).values\n",
    "    X_train = train_data.drop(['Species'], axis = 1).values\n",
    "    y_train = train_data[['Species']].copy().values\n",
    "    valid_data = pd.read_csv('../data/' + save_folder + '/train_data_' + str(num_samples) + '_valid.csv')\n",
    "    #X_valid = valid_data.drop(['Species', 'Culmen Length (mm)'], axis = 1).values\n",
    "    X_valid = valid_data.drop(['Species'], axis = 1).values\n",
    "    y_valid = valid_data[['Species']].copy().values\n",
    "    \n",
    "    # label should be int\n",
    "    y_train = np.floor(y_train + 1.1).astype(int)\n",
    "#     y_train = np.squeeze(y_train)\n",
    "#     n_values = np.max(y_train) + 1\n",
    "#     y_train = np.eye(n_values)[y_train]\n",
    "    \n",
    "    # label should be int\n",
    "    y_valid = np.floor(y_valid + 1.1).astype(int)\n",
    "#     y_valid = np.squeeze(y_valid)\n",
    "#     n_values = np.max(y_valid) + 1\n",
    "#     y_valid = np.eye(n_values)[y_valid]\n",
    "    return X_train, y_train, X_valid, y_valid\n",
    "\n",
    "def getTestDataset(num_samples):\n",
    "    save_folder = 'train_0.5_valid_0.7_test'\n",
    "    test_data = pd.read_csv('../data/' + save_folder + '/train_data_' + str(num_samples) + '_test.csv')\n",
    "    #X_valid = valid_data.drop(['Species', 'Culmen Length (mm)'], axis = 1).values\n",
    "    X_test = test_data.drop(['Species'], axis = 1).values\n",
    "    y_test = test_data[['Species']].copy().values\n",
    "    \n",
    "#     y_test = np.floor(y_test + 1.1).astype(int)\n",
    "#     y_test = np.squeeze(y_test)\n",
    "#     n_values = np.max(y_test) + 1\n",
    "#     y_test = np.eye(n_values)[y_test]\n",
    "    return X_test, y_test"
   ]
  },
  {
   "cell_type": "code",
   "execution_count": 4,
   "id": "362a9173",
   "metadata": {},
   "outputs": [
    {
     "name": "stdout",
     "output_type": "stream",
     "text": [
      "gauss 50\n",
      "0.9852941176470589\n",
      "gauss 110\n",
      "1.0\n",
      "gauss 170\n",
      "1.0\n"
     ]
    },
    {
     "name": "stderr",
     "output_type": "stream",
     "text": [
      "/opt/homebrew/Caskroom/miniforge/base/envs/ml_env/lib/python3.9/site-packages/sklearn/utils/validation.py:993: DataConversionWarning: A column-vector y was passed when a 1d array was expected. Please change the shape of y to (n_samples, ), for example using ravel().\n",
      "  y = column_or_1d(y, warn=True)\n",
      "/opt/homebrew/Caskroom/miniforge/base/envs/ml_env/lib/python3.9/site-packages/sklearn/utils/validation.py:993: DataConversionWarning: A column-vector y was passed when a 1d array was expected. Please change the shape of y to (n_samples, ), for example using ravel().\n",
      "  y = column_or_1d(y, warn=True)\n",
      "/opt/homebrew/Caskroom/miniforge/base/envs/ml_env/lib/python3.9/site-packages/sklearn/utils/validation.py:993: DataConversionWarning: A column-vector y was passed when a 1d array was expected. Please change the shape of y to (n_samples, ), for example using ravel().\n",
      "  y = column_or_1d(y, warn=True)\n"
     ]
    }
   ],
   "source": [
    "gaussian = []\n",
    "test_size = [50, 110, 170]\n",
    "\n",
    "for length in test_size:\n",
    "    X_train, y_train, X_valid, y_valid = getData(length)   \n",
    "    X_train = X_train\n",
    "    X_valid = X_valid\n",
    "    \n",
    "    GaussianNB\n",
    "    model = GaussianNB()\n",
    "    model.fit(X_train, y_train)\n",
    "    # GaussianNB(priors=None)\n",
    "    # predict our sample\n",
    "    y_pred = model.predict(X_valid)\n",
    "    # evaluation our prediction\n",
    "    print(\"gauss\", length) \n",
    "    print(metrics.accuracy_score(y_valid, y_pred))\n",
    "    gaussian.append(metrics.accuracy_score(y_valid, y_pred))\n"
   ]
  },
  {
   "cell_type": "code",
   "execution_count": 5,
   "id": "03edbdfd",
   "metadata": {},
   "outputs": [
    {
     "name": "stdout",
     "output_type": "stream",
     "text": [
      "gauss 50\n",
      "0.9852941176470589\n",
      "gauss 110\n",
      "1.0\n",
      "gauss 170\n",
      "1.0\n"
     ]
    },
    {
     "name": "stderr",
     "output_type": "stream",
     "text": [
      "/opt/homebrew/Caskroom/miniforge/base/envs/ml_env/lib/python3.9/site-packages/sklearn/utils/validation.py:993: DataConversionWarning: A column-vector y was passed when a 1d array was expected. Please change the shape of y to (n_samples, ), for example using ravel().\n",
      "  y = column_or_1d(y, warn=True)\n",
      "/opt/homebrew/Caskroom/miniforge/base/envs/ml_env/lib/python3.9/site-packages/sklearn/utils/validation.py:993: DataConversionWarning: A column-vector y was passed when a 1d array was expected. Please change the shape of y to (n_samples, ), for example using ravel().\n",
      "  y = column_or_1d(y, warn=True)\n",
      "/opt/homebrew/Caskroom/miniforge/base/envs/ml_env/lib/python3.9/site-packages/sklearn/utils/validation.py:993: DataConversionWarning: A column-vector y was passed when a 1d array was expected. Please change the shape of y to (n_samples, ), for example using ravel().\n",
      "  y = column_or_1d(y, warn=True)\n"
     ]
    }
   ],
   "source": [
    "gaussian_validation = []\n",
    "test_size = [50, 110, 170]\n",
    "\n",
    "for length in test_size:\n",
    "    X_train, y_train, X_valid, y_valid = getDataNormalization(length)   \n",
    "    X_train = X_train\n",
    "    X_valid = X_valid\n",
    "    \n",
    "    GaussianNB\n",
    "    model = GaussianNB()\n",
    "    model.fit(X_train, y_train)\n",
    "    # GaussianNB(priors=None)\n",
    "    # predict our sample\n",
    "    y_pred = model.predict(X_valid)\n",
    "    # evaluation our prediction\n",
    "    print(\"gauss\", length) \n",
    "    print(metrics.accuracy_score(y_valid, y_pred))\n",
    "    gaussian_validation.append(metrics.accuracy_score(y_valid, y_pred))\n"
   ]
  },
  {
   "cell_type": "code",
   "execution_count": 9,
   "id": "862c7337",
   "metadata": {},
   "outputs": [
    {
     "name": "stdout",
     "output_type": "stream",
     "text": [
      "3\n"
     ]
    },
    {
     "data": {
      "image/png": "[encoded data removed]",
      "text/plain": [
       "<Figure size 1152x576 with 1 Axes>"
      ]
     },
     "metadata": {
      "needs_background": "light"
     },
     "output_type": "display_data"
    }
   ],
   "source": [
    "objects = ('50 samples', '110 samples', '170 samples')\n",
    "print(len(objects))\n",
    "y_pos = np.arange(len(objects))\n",
    "plt.rcParams['figure.figsize'] = [16, 8]\n",
    "plt.rcParams['font.size'] = '20'\n",
    "\n",
    "for index, value in enumerate(gaussian):\n",
    "    plt.text(index - 0.32, value + 0.01, str(\"{:.3f}\".format(value)), fontsize=16)\n",
    "for index, value in enumerate(gaussian_validation):\n",
    "    plt.text(index - 0.08, value + 0.01, str(\"{:.3f}\".format(value)), fontsize=16)\n",
    "#plt.bar(y_pos, performance, align='center', alpha=0.5)\n",
    "bars_sigmoid = plt.bar(y_pos - 0.24, gaussian, 0.24, label = 'Normal', color = 'magenta')\n",
    "plt.bar(y_pos, gaussian_validation, 0.24, label = 'Validation Dataset', color = 'orange')\n",
    "# bars_linear = plt.bar(y_pos + 0.24, knn50, 0.24, label = 'Weight 3', color = 'teal')\n",
    "#plt.bar(y_pos + 0.36, min_rewardVSs, 0.24, label = 'Lowest tolerance latency in a time slot compared to 5 VS')\n",
    "plt.xticks(y_pos, objects)\n",
    "plt.ylim([0, 1.5])\n",
    "plt.ylabel(\"Validation accuary\")\n",
    "patterns = (\"o\", \"o\", \"o\")\n",
    "for i, x in zip(bars_sigmoid,patterns):\n",
    "      i.set_hatch(x)\n",
    "patterns = (\"\\\\\", \"\\\\\", \"\\\\\")\n",
    "# for i, x in zip(bars_linear,patterns):\n",
    "#       i.set_hatch(x)\n",
    "plt.legend(fontsize = 20)\n",
    "#plt.margins(0.1,0)\n",
    "plt.savefig('../pics/NB/NB.svg', bbox_inches='tight')\n",
    "plt.savefig('../pics/NB/NB.pdf', bbox_inches='tight')\n",
    "plt.show()"
   ]
  },
  {
   "cell_type": "code",
   "execution_count": null,
   "id": "99aaa4c2",
   "metadata": {},
   "outputs": [],
   "source": []
  }
 ],
 "metadata": {
  "kernelspec": {
   "display_name": "ml_env",
   "language": "python",
   "name": "ml_env"
  },
  "language_info": {
   "codemirror_mode": {
    "name": "ipython",
    "version": 3
   },
   "file_extension": ".py",
   "mimetype": "text/x-python",
   "name": "python",
   "nbconvert_exporter": "python",
   "pygments_lexer": "ipython3",
   "version": "3.9.12"
  }
 },
 "nbformat": 4,
 "nbformat_minor": 5
}
