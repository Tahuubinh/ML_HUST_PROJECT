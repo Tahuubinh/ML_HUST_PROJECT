{
 "cells": [
  {
   "cell_type": "code",
   "execution_count": 1,
   "id": "66cdff43",
   "metadata": {},
   "outputs": [
    {
     "data": {
      "text/plain": [
       "<Figure size 1200x800 with 0 Axes>"
      ]
     },
     "metadata": {},
     "output_type": "display_data"
    }
   ],
   "source": [
    "import os\n",
    "import numpy as np\n",
    "import matplotlib.pyplot as plt\n",
    "plt.style.use('default')\n",
    "import pandas as pd\n",
    "plt.rcParams['figure.figsize'] = [12, 8]\n",
    "plt.rcParams['figure.dpi'] = 100 # 200 e.g. is really fine, but slower\n",
    "plt.tight_layout()\n",
    "import matplotlib \n",
    "font = {'family' : 'normal',\n",
    "        'weight' : 'normal',\n",
    "        'size'   : 20}\n",
    "matplotlib.rc('font', **font)"
   ]
  },
  {
   "cell_type": "code",
   "execution_count": 2,
   "id": "f1093643",
   "metadata": {},
   "outputs": [],
   "source": [
    "def changeTextFeatureToNumeric(df, cols):\n",
    "    for col in cols:\n",
    "        try:\n",
    "            a = df[[col]].apply(lambda col: pd.factorize(col, sort=False)[0])[col]\n",
    "            b = df.drop([col], axis=1)\n",
    "            df = pd.concat([b, a], axis=1, join='inner')\n",
    "        except:\n",
    "            pass\n",
    "    return df\n",
    "\n",
    "def splitTrainTest(df, percentage, data_name):\n",
    "    df_Adelie = df[df['Species'] == 0]\n",
    "    df_Chinstrap = df[df['Species'] == 1]\n",
    "    df_Gentoo = df[df['Species'] == 2]\n",
    "\n",
    "    # Suffle\n",
    "    df_Adelie = df_Adelie.sample(frac=1)\n",
    "    df_Chinstrap = df_Chinstrap.sample(frac=1)\n",
    "    df_Gentoo = df_Gentoo.sample(frac=1)\n",
    "    \n",
    "    def dfGetTrainData(df, percentage):\n",
    "        df_len = len(df)\n",
    "        return df.head(int(df_len * percentage))\n",
    "\n",
    "    def dfGetTestData(df, percentage):\n",
    "        df_len = len(df)    \n",
    "        return df.tail(df_len - int(df_len * percentage))\n",
    "    \n",
    "    df_Adelie_train = dfGetTrainData(df_Adelie, percentage)\n",
    "    df_Chinstrap_train = dfGetTrainData(df_Chinstrap, percentage)\n",
    "    df_Gentoo_train = dfGetTrainData(df_Gentoo, percentage)\n",
    "\n",
    "    df_Adelie_test = dfGetTestData(df_Adelie, percentage)\n",
    "    df_Chinstrap_test = dfGetTestData(df_Chinstrap, percentage)\n",
    "    df_Gentoo_test = dfGetTestData(df_Gentoo, percentage)\n",
    "    \n",
    "    frames = [df_Adelie_train, df_Chinstrap_train, df_Gentoo_train]\n",
    "    df_train = pd.concat(frames).sample(frac=1)\n",
    "    frames = [df_Adelie_test, df_Chinstrap_test, df_Gentoo_test]\n",
    "    df_test = pd.concat(frames).sample(frac=1)\n",
    "    \n",
    "    try:\n",
    "        os.makedirs('../data/' + data_name)\n",
    "    except OSError as e:\n",
    "        pass\n",
    "    \n",
    "    df_train.to_csv('../data/' + data_name + '/train_data.csv', index = False)\n",
    "    df_test.to_csv('../data/' + data_name + '/test_data.csv', index = False)"
   ]
  },
  {
   "cell_type": "markdown",
   "id": "be4ddb13",
   "metadata": {},
   "source": [
    "# Create training and testing data"
   ]
  },
  {
   "cell_type": "code",
   "execution_count": 22,
   "id": "4a325e93",
   "metadata": {},
   "outputs": [],
   "source": [
    "df_remove_outliers = pd.read_csv(\"../data/data_remove_outliers.csv\")\n",
    "df_remove_outliers = changeTextFeatureToNumeric(df_remove_outliers, ['Island', 'Clutch Completion', 'Sex', 'Species', 'a'])\n",
    "#df_remove_outliers = df_remove_outliers.fillna(df_remove_outliers.mean())\n",
    "df_remove_outliers\n",
    "splitTrainTest(df_remove_outliers, percentage = 0.8, data_name = 'data1')"
   ]
  },
  {
   "cell_type": "code",
   "execution_count": 23,
   "id": "6de24cce",
   "metadata": {},
   "outputs": [],
   "source": [
    "train_data = pd.read_csv(\"../data/data1/train_data.csv\")\n",
    "test_data = pd.read_csv(\"../data/data1/test_data.csv\")\n",
    "\n",
    "X_train = train_data.drop(['Species'], axis = 1)\n",
    "y_train = train_data[['Species']].copy()\n",
    "X_train.to_csv('../data/' + 'data1' + '/X_train.csv', index = False)\n",
    "y_train.to_csv('../data/' + 'data1' + '/y_train.csv', index = False)\n",
    "\n",
    "X_test = test_data.drop(['Species'], axis = 1)\n",
    "y_test = test_data[['Species']].copy()\n",
    "X_test.to_csv('../data/' + 'data1' + '/X_test.csv', index = False)\n",
    "y_test.to_csv('../data/' + 'data1' + '/y_test.csv', index = False)"
   ]
  },
  {
   "cell_type": "markdown",
   "id": "128ee8a6",
   "metadata": {},
   "source": [
    "# Tackle NaN"
   ]
  },
  {
   "cell_type": "code",
   "execution_count": 25,
   "id": "5dcd06e7",
   "metadata": {},
   "outputs": [],
   "source": [
    "df_remove_outliers = pd.read_csv(\"../data/data_remove_outliers.csv\")\n",
    "df_remove_outliers = changeTextFeatureToNumeric(df_remove_outliers, ['Island', 'Clutch Completion', 'Sex', 'Species', 'a'])\n",
    "df_remove_outliers = df_remove_outliers.fillna(df_remove_outliers.mean())\n",
    "df_remove_outliers\n",
    "splitTrainTest(df_remove_outliers, percentage = 0.8, data_name = 'data_nan_mean')"
   ]
  },
  {
   "cell_type": "code",
   "execution_count": 26,
   "id": "edd778fe",
   "metadata": {},
   "outputs": [],
   "source": [
    "save_folder = 'data_nan_mean'\n",
    "train_data = pd.read_csv('../data/' + save_folder + '/train_data.csv')\n",
    "test_data = pd.read_csv('../data/' + save_folder + '/test_data.csv')\n",
    "\n",
    "X_train = train_data.drop(['Species'], axis = 1)\n",
    "y_train = train_data[['Species']].copy()\n",
    "X_train.to_csv('../data/' + save_folder + '/X_train.csv', index = False)\n",
    "y_train.to_csv('../data/' + save_folder + '/y_train.csv', index = False)\n",
    "\n",
    "X_test = test_data.drop(['Species'], axis = 1)\n",
    "y_test = test_data[['Species']].copy()\n",
    "X_test.to_csv('../data/' + save_folder + '/X_test.csv', index = False)\n",
    "y_test.to_csv('../data/' + save_folder + '/y_test.csv', index = False)"
   ]
  },
  {
   "cell_type": "code",
   "execution_count": 27,
   "id": "af4e1748",
   "metadata": {},
   "outputs": [],
   "source": [
    "save_folder = 'data_nan_zero'\n",
    "df_remove_outliers = pd.read_csv(\"../data/data_remove_outliers.csv\")\n",
    "df_remove_outliers = changeTextFeatureToNumeric(df_remove_outliers, ['Island', 'Clutch Completion', 'Sex', 'Species', 'a'])\n",
    "df_remove_outliers = df_remove_outliers.fillna(0)\n",
    "splitTrainTest(df_remove_outliers, percentage = 0.8, data_name = save_folder)\n",
    "\n",
    "train_data = pd.read_csv('../data/' + save_folder + '/train_data.csv')\n",
    "test_data = pd.read_csv('../data/' + save_folder + '/test_data.csv')\n",
    "\n",
    "X_train = train_data.drop(['Species'], axis = 1)\n",
    "y_train = train_data[['Species']].copy()\n",
    "X_train.to_csv('../data/' + save_folder + '/X_train.csv', index = False)\n",
    "y_train.to_csv('../data/' + save_folder + '/y_train.csv', index = False)\n",
    "\n",
    "X_test = test_data.drop(['Species'], axis = 1)\n",
    "y_test = test_data[['Species']].copy()\n",
    "X_test.to_csv('../data/' + save_folder + '/X_test.csv', index = False)\n",
    "y_test.to_csv('../data/' + save_folder + '/y_test.csv', index = False)"
   ]
  },
  {
   "cell_type": "markdown",
   "id": "952213d6",
   "metadata": {},
   "source": [
    "# Create training and testing data for no-Island data"
   ]
  },
  {
   "cell_type": "code",
   "execution_count": 3,
   "id": "16f5a386",
   "metadata": {},
   "outputs": [],
   "source": [
    "save_folder = 'data_nan_mean_no_Island_70_percent'\n",
    "df_remove_outliers = pd.read_csv(\"../data/data_remove_Island.csv\")\n",
    "df_remove_outliers = changeTextFeatureToNumeric(df_remove_outliers, ['Clutch Completion', 'Sex', 'Species', 'a'])\n",
    "df_remove_outliers = df_remove_outliers.fillna(df_remove_outliers.mean())\n",
    "splitTrainTest(df_remove_outliers, percentage = 0.7, data_name = save_folder)"
   ]
  },
  {
   "cell_type": "code",
   "execution_count": 4,
   "id": "082e3a0b",
   "metadata": {},
   "outputs": [],
   "source": [
    "train_data = pd.read_csv('../data/' + save_folder + '/train_data.csv')\n",
    "test_data = pd.read_csv('../data/' + save_folder + '/test_data.csv')\n",
    "\n",
    "X_train = train_data.drop(['Species'], axis = 1)\n",
    "y_train = train_data[['Species']].copy()\n",
    "X_train.to_csv('../data/' + save_folder + '/X_train.csv', index = False)\n",
    "y_train.to_csv('../data/' + save_folder + '/y_train.csv', index = False)\n",
    "\n",
    "X_test = test_data.drop(['Species'], axis = 1)\n",
    "y_test = test_data[['Species']].copy()\n",
    "X_test.to_csv('../data/' + save_folder + '/X_test.csv', index = False)\n",
    "y_test.to_csv('../data/' + save_folder + '/y_test.csv', index = False)"
   ]
  },
  {
   "cell_type": "code",
   "execution_count": null,
   "id": "8f76193a",
   "metadata": {},
   "outputs": [],
   "source": []
  }
 ],
 "metadata": {
  "interpreter": {
   "hash": "c2c62a62b6b3ac78c25ded2302f41219f58d7d9980c88ca5d8a7ac0a2fdc116b"
  },
  "kernelspec": {
   "display_name": "Python 3.9.6 ('tf')",
   "language": "python",
   "name": "python3"
  },
  "language_info": {
   "codemirror_mode": {
    "name": "ipython",
    "version": 3
   },
   "file_extension": ".py",
   "mimetype": "text/x-python",
   "name": "python",
   "nbconvert_exporter": "python",
   "pygments_lexer": "ipython3",
   "version": "3.9.12"
  }
 },
 "nbformat": 4,
 "nbformat_minor": 5
}
