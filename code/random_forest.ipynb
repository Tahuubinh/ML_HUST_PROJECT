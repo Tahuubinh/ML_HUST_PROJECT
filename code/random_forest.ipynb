{
 "cells": [
  {
   "cell_type": "code",
   "execution_count": 53,
   "metadata": {},
   "outputs": [],
   "source": [
    "import matplotlib.pyplot as plt\n",
    "import numpy as np\n",
    "import pandas as pd\n",
    "import math \n",
    "import seaborn as sns\n",
    "\n",
    "from sklearn.ensemble import RandomForestClassifier"
   ]
  },
  {
   "cell_type": "code",
   "execution_count": 181,
   "metadata": {},
   "outputs": [],
   "source": [
    "save_folder = 'data_nan_mean_no_Island_70_percent'\n",
    "X_train = pd.read_csv('../data/' + save_folder + '/X_train.csv').values\n",
    "y_train = pd.read_csv('../data/' + save_folder + '/y_train.csv').values\n",
    "X_test = pd.read_csv('../data/' + save_folder + '/X_test.csv').values\n",
    "y_test = pd.read_csv('../data/' + save_folder + '/y_test.csv').values\n",
    "\n",
    "\n",
    "y_train = np.squeeze(y_train)\n",
    "n_values = np.max(y_train) + 1\n",
    "y_train = np.eye(n_values)[y_train]\n",
    "\n",
    "def getData(num_samples):\n",
    "    save_folder = 'train_0.5_valid_0.7_test'\n",
    "    train_data = pd.read_csv('../data/' + save_folder + '/train_data_' + str(num_samples) + '_NaNmean.csv')\n",
    "    X_train = train_data.drop(['Species'], axis = 1).values\n",
    "    y_train = train_data[['Species']].copy().values\n",
    "    valid_data = pd.read_csv('../data/' + save_folder + '/valid_data_NaNmean.csv')\n",
    "    X_valid = valid_data.drop(['Species'], axis = 1).values\n",
    "    y_valid = valid_data[['Species']].copy().values\n",
    "\n",
    "    y_train = np.squeeze(y_train)\n",
    "    n_values = np.max(y_train) + 1\n",
    "    y_train = np.eye(n_values)[y_train]\n",
    "\n",
    "    y_valid = np.squeeze(y_valid)\n",
    "    n_values = np.max(y_valid) + 1\n",
    "    y_valid = np.eye(n_values)[y_valid]\n",
    "    return X_train, y_train, X_valid, y_valid\n",
    "\n",
    "def getDataNormalization(num_samples):\n",
    "    save_folder = 'train_0.5_valid_0.7_test'\n",
    "    train_data = pd.read_csv('../data/' + save_folder + '/train_data_' + str(num_samples) + '_Normalization.csv')\n",
    "    #X_train = train_data.drop(['Species', 'Delta 15 N (o/oo)', 'Delta 13 C (o/oo)'], axis = 1).values\n",
    "    X_train = train_data.drop(['Species'], axis = 1).values\n",
    "    y_train = train_data[['Species']].copy().values\n",
    "    valid_data = pd.read_csv('../data/' + save_folder + '/train_data_' + str(num_samples) + '_valid.csv')\n",
    "    #X_valid = valid_data.drop(['Species', 'Delta 15 N (o/oo)', 'Delta 13 C (o/oo)'], axis = 1).values\n",
    "    X_valid = valid_data.drop(['Species'], axis = 1).values\n",
    "    y_valid = valid_data[['Species']].copy().values\n",
    "    \n",
    "    # label should be int\n",
    "    y_train = np.floor(y_train + 1.1).astype(int)\n",
    "    y_train = np.squeeze(y_train)\n",
    "    n_values = np.max(y_train) + 1\n",
    "    y_train = np.eye(n_values)[y_train]\n",
    "    \n",
    "    # label should be int\n",
    "    y_valid = np.floor(y_valid + 1.1).astype(int)\n",
    "    y_valid = np.squeeze(y_valid)\n",
    "    n_values = np.max(y_valid) + 1\n",
    "    y_valid = np.eye(n_values)[y_valid]\n",
    "    return X_train, y_train, X_valid, y_valid\n",
    "\n",
    "def getTestData():\n",
    "    save_folder = 'train_0.5_valid_0.7_test'\n",
    "    test_data = pd.read_csv('../data/' + save_folder + '/test_data_NaNmean.csv')\n",
    "    X_test = test_data.drop(['Species'], axis = 1).values\n",
    "    y_test = test_data[['Species']].copy().values\n",
    "\n",
    "    y_test = np.squeeze(y_test)\n",
    "    n_values = np.max(y_test) + 1\n",
    "    # print(n_values)\n",
    "    y_test = np.eye(n_values)[y_test]\n",
    "\n",
    "    return X_test, y_test\n",
    "\n",
    "def getTestDataNormalization(num_sample):\n",
    "    save_folder = 'train_0.5_valid_0.7_test'\n",
    "    test_data = pd.read_csv('../data/' + save_folder + '/train_data_' + str(num_sample) + '_test.csv')\n",
    "    X_test = test_data.drop(['Species'], axis = 1).values\n",
    "    y_test = test_data[['Species']].copy().values\n",
    "    \n",
    "    y_test = np.floor(y_test + 1.1).astype(int)\n",
    "    y_test = np.squeeze(y_test)\n",
    "    n_values = np.max(y_test) + 1\n",
    "    y_test = np.eye(n_values)[y_test]\n",
    "    return X_test, y_test\n"
   ]
  },
  {
   "cell_type": "code",
   "execution_count": 55,
   "metadata": {},
   "outputs": [],
   "source": [
    "\n",
    "def runRandomForest(n_estimators, criterion, X_train, y_train, X_valid, y_valid):\n",
    "    penguin = RandomForestClassifier(n_estimators=n_estimators, criterion=criterion)\n",
    "    penguin.fit(X_train,y_train)\n",
    "\n",
    "    y_predict = penguin.predict(X_valid)\n",
    "    y_predict = np.argmax(y_predict, axis=1)\n",
    "    y_test_label = np.argmax(y_valid, axis=1)\n",
    "\n",
    "    score = sum(y_predict==y_test_label)/y_valid.shape[0]\n",
    "    # labels = [\"Adelie\", \"Chinstrap\", \"Gentoo\"]\n",
    "\n",
    "    # cm = confusion_matrix(y_test_label, y_predict)\n",
    "\n",
    "    # disp = ConfusionMatrixDisplay(confusion_matrix=cm, display_labels=labels)\n",
    "\n",
    "    # disp.plot(cmap=plt.cm.Blues)\n",
    "    # # plt.savefig('../pics/random_forest/confusion_matrix')\n",
    "    # # plt.savefig('../pics/random_forest/confusion_matrix.pdf')\n",
    "    # plt.show()\n",
    "    return (score, penguin)\n",
    "\n",
    "#predict test\n",
    "def predictRandomForest(model, X_test, y_test):\n",
    "    y_predict = model.predict(X_test)\n",
    "    y_predict = np.argmax(y_predict, axis=1)\n",
    "    y_test_label = np.argmax(y_test, axis=1)\n",
    "    score = sum(y_predict==y_test_label)/y_test.shape[0]\n",
    "    \n",
    "    predict_score.append(score)\n",
    "    return score"
   ]
  },
  {
   "cell_type": "code",
   "execution_count": 158,
   "metadata": {},
   "outputs": [],
   "source": [
    "X_train, y_train, X_valid, y_valid = getData(50)\n",
    "his_1_score = []\n",
    "his_2_score = []\n",
    "his_3_score = []\n",
    "\n",
    "his_1_NaN_Mean_model = []\n",
    "his_2_NaN_Mean_model = []\n",
    "his_3_NaN_Mean_model = []\n",
    "\n",
    "n_estimators = [10, 15, 20]\n",
    "for i in n_estimators:\n",
    "    (his_1, model1) = runRandomForest(i, 'entropy', X_train, y_train, X_valid, y_valid)\n",
    "    his_1_score.append(his_1)\n",
    "    his_1_NaN_Mean_model.append(model1)\n",
    "\n",
    "X_train, y_train, X_valid, y_valid = getData(110)\n",
    "for i in n_estimators:\n",
    "    (his_2, model2) = runRandomForest(i, 'entropy', X_train, y_train, X_valid, y_valid)\n",
    "    his_2_score.append(his_2)\n",
    "    his_2_NaN_Mean_model.append(model2)\n",
    "\n",
    "X_train, y_train, X_valid, y_valid = getData(170)\n",
    "for i in n_estimators:\n",
    "    (his_3, model3) = runRandomForest(i, 'entropy', X_train, y_train, X_valid, y_valid)\n",
    "    his_3_score.append(his_3)\n",
    "    his_3_NaN_Mean_model.append(model3)\n"
   ]
  },
  {
   "cell_type": "code",
   "execution_count": 159,
   "metadata": {},
   "outputs": [
    {
     "data": {
      "image/png": "[encoded data removed]",
      "text/plain": [
       "<Figure size 1152x576 with 1 Axes>"
      ]
     },
     "metadata": {
      "needs_background": "light"
     },
     "output_type": "display_data"
    }
   ],
   "source": [
    "objects = ('50 samples', '110 samples', '170 samples')\n",
    "y_pos = np.arange(len(objects))\n",
    "plt.rcParams['figure.figsize'] = [16, 8]\n",
    "plt.rcParams['font.size'] = '20'\n",
    "\n",
    "estimators_10 = [his_1_score[0], his_2_score[0], his_3_score[0]]\n",
    "estimators_50 = [his_1_score[1], his_2_score[1], his_3_score[1]]\n",
    "estimators_100 = [his_1_score[2], his_2_score[2], his_3_score[2]]\n",
    "\n",
    "for index, value in enumerate(estimators_10):\n",
    "    plt.text(index - 0.32, value + 0.01, str(\"{:.3f}\".format(value)), fontsize=16)\n",
    "for index, value in enumerate(estimators_50):\n",
    "    plt.text(index - 0.08, value + 0.01, str(\"{:.3f}\".format(value)), fontsize=16)\n",
    "for index, value in enumerate(estimators_100):\n",
    "    plt.text(index + 0.16, value + 0.01, str(\"{:.3f}\".format(value)), fontsize=16)\n",
    "\n",
    "bars_10_estimators = plt.bar(y_pos - 0.24, estimators_10, 0.24, label = '10 trees', color = 'magenta')\n",
    "plt.bar(y_pos, estimators_50, 0.24, label = '50 trees', color = 'orange')\n",
    "bars_100_estimators = plt.bar(y_pos + 0.24, estimators_100, 0.24, label = '100 trees', color = 'teal')\n",
    "\n",
    "plt.xticks(y_pos, objects)\n",
    "plt.ylim([0, 1.5])\n",
    "patterns = (\"o\", \"o\", \"o\")\n",
    "for i, x in zip(bars_10_estimators,patterns):\n",
    "      i.set_hatch(x)\n",
    "patterns = (\"\\\\\", \"\\\\\", \"\\\\\")\n",
    "for i, x in zip(bars_100_estimators,patterns):\n",
    "      i.set_hatch(x)\n",
    "plt.legend(fontsize = 20)\n",
    "#plt.margins(0.1,0)\n",
    "plt.savefig('../pics/ANN/activation_with_different_data.svg', bbox_inches='tight')\n",
    "plt.savefig('../pics/ANN/activation_with_different_data.pdf', bbox_inches='tight')\n",
    "plt.show()\n"
   ]
  },
  {
   "cell_type": "code",
   "execution_count": 160,
   "metadata": {},
   "outputs": [
    {
     "name": "stdout",
     "output_type": "stream",
     "text": [
      "0 10_trees__50_samples_data_NaN_Mean\n",
      "2 20_trees__50_samples_data_NaN_Mean\n",
      "1 15_trees__110_samples_data_NaN_Mean\n",
      "2 20_trees__170_samples_data_NaN_Mean\n"
     ]
    }
   ],
   "source": [
    "import joblib\n",
    "#chose these best model to save \n",
    "model_1_NaN = np.array(his_1_NaN_Mean_model, dtype=object)\n",
    "score_1_NaN = np.array(his_1_score)\n",
    "\n",
    "m_score_1_NaN = max(score_1_NaN)\n",
    "index_max_model_1_NaN = np.where((score_1_NaN == m_score_1_NaN))[0]\n",
    "max_model_1_NaN = model_1_NaN[index_max_model_1_NaN]  \n",
    "name_model__1_NaN = []\n",
    "for i in index_max_model_1_NaN:\n",
    "    s = str((i%3) * 5 + 10) + \"_trees_\" + \"_50_samples_data_NaN_Mean\" \n",
    "    joblib.dump(his_1_NaN_Mean_model[i], \"../results/model/data_NaN_Mean/random_forest/\" + s + \".joblib\")\n",
    "    print(i, s)\n",
    "\n",
    "model_2_NaN = np.array(his_2_NaN_Mean_model, dtype=object)\n",
    "score_2_NaN = np.array(his_2_score)\n",
    "m_score_2_NaN = max(score_2_NaN)\n",
    "index_max_model_2_NaN = np.where((score_2_NaN == m_score_2_NaN))[0]\n",
    "max_model_2_NaN = model_2_NaN[index_max_model_2_NaN]  \n",
    "name_model__2_NaN = []\n",
    "for i in index_max_model_2_NaN:\n",
    "    s = str((i%3) * 5 + 10) + \"_trees_\" + \"_110_samples_data_NaN_Mean\" \n",
    "    joblib.dump(his_2_NaN_Mean_model[i], \"../results/model/data_NaN_Mean/random_forest/\" + s + \".joblib\")\n",
    "    print(i, s)\n",
    "\n",
    "model_3_NaN = np.array(his_3_NaN_Mean_model, dtype=object)\n",
    "score_3_NaN = np.array(his_3_score)\n",
    "m_score_3_NaN = max(score_3_NaN)\n",
    "index_max_model_3_NaN = np.where((score_3_NaN == m_score_3_NaN))[0]\n",
    "max_model_3_NaN = model_3_NaN[index_max_model_3_NaN]  \n",
    "name_model__3_NaN = []\n",
    "for i in index_max_model_3_NaN:\n",
    "    s = str((i%3) * 5 + 10) + \"_trees_\" + \"_170_samples_data_NaN_Mean\" \n",
    "    joblib.dump(his_3_NaN_Mean_model[i], \"../results/model/data_NaN_Mean/random_forest/\" + s + \".joblib\")\n",
    "    print(i, s)\n",
    "\n"
   ]
  },
  {
   "cell_type": "code",
   "execution_count": 110,
   "metadata": {},
   "outputs": [],
   "source": []
  },
  {
   "cell_type": "code",
   "execution_count": 161,
   "metadata": {},
   "outputs": [
    {
     "name": "stdout",
     "output_type": "stream",
     "text": [
      "10_trees__50_samples_data_NaN_Mean.joblib: 94.23076923076923%\n",
      "15_trees__110_samples_data_NaN_Mean.joblib: 97.11538461538461%\n",
      "20_trees__170_samples_data_NaN_Mean.joblib: 96.15384615384616%\n",
      "20_trees__50_samples_data_NaN_Mean.joblib: 95.1923076923077%\n"
     ]
    }
   ],
   "source": [
    "#load model NaN mean\n",
    "import os\n",
    "\n",
    "predict_score = []\n",
    "X_test, y_test = getTestData()\n",
    "\n",
    "load_models = []\n",
    "for file in os.listdir(\"../results/model/data_NaN_Mean/random_forest/\"):\n",
    "    if file.endswith(\".joblib\"):\n",
    "        test_model = joblib.load(\"../results/model/data_NaN_Mean/random_forest/\" + file)\n",
    "        test_score = predictRandomForest(test_model, X_test, y_test)\n",
    "        print(file + \": \" + str(test_score * 100) + \"%\")"
   ]
  },
  {
   "cell_type": "code",
   "execution_count": 195,
   "metadata": {},
   "outputs": [],
   "source": [
    "X_train, y_train, X_valid, y_valid = getDataNormalization(50)\n",
    "his_1N_score = []\n",
    "his_2N_score = []\n",
    "his_3N_score = []\n",
    "his_1N_normalization_model = []\n",
    "his_2N_normalization_model = []\n",
    "his_3N_normalization_model = []\n",
    "\n",
    "n_estimators = [10, 15, 20]\n",
    "for i in n_estimators:\n",
    "    (his_1N, model_normalization1) = runRandomForest(i, 'entropy', X_train, y_train, X_valid, y_valid)\n",
    "    his_1N_score.append(his_1N)\n",
    "    his_1N_normalization_model.append(model_normalization1)\n",
    "\n",
    "X_train, y_train, X_valid, y_valid = getDataNormalization(110)\n",
    "for i in n_estimators:\n",
    "    (his_2N, model_normalization2) = runRandomForest(i, 'entropy', X_train, y_train, X_valid, y_valid)\n",
    "    his_2N_score.append(his_2N)\n",
    "    his_2N_normalization_model.append(model_normalization2)\n",
    "\n",
    "X_train, y_train, X_valid, y_valid = getDataNormalization(170)\n",
    "for i in n_estimators:\n",
    "    (his_3N, model_normalization3) = runRandomForest(i, 'entropy', X_train, y_train, X_valid, y_valid)\n",
    "    his_3N_score.append(his_3N)\n",
    "    his_3N_normalization_model.append(model_normalization3)\n",
    "\n"
   ]
  },
  {
   "cell_type": "code",
   "execution_count": 196,
   "metadata": {},
   "outputs": [
    {
     "data": {
      "image/png": "[encoded data removed]",
      "text/plain": [
       "<Figure size 1152x576 with 1 Axes>"
      ]
     },
     "metadata": {
      "needs_background": "light"
     },
     "output_type": "display_data"
    }
   ],
   "source": [
    "objects = ('50 samples', '110 samples', '170 samples')\n",
    "y_pos = np.arange(len(objects))\n",
    "plt.rcParams['figure.figsize'] = [16, 8]\n",
    "plt.rcParams['font.size'] = '20'\n",
    "\n",
    "estimators_10N = [his_1N_score[0], his_2N_score[0], his_3N_score[0]]\n",
    "estimators_50N = [his_1N_score[1], his_2N_score[1], his_3N_score[1]]\n",
    "estimators_100N = [his_1N_score[2], his_2N_score[2], his_3N_score[2]]\n",
    "\n",
    "for index, value in enumerate(estimators_10N):\n",
    "    plt.text(index - 0.32, value + 0.01, str(\"{:.3f}\".format(value)), fontsize=16)\n",
    "for index, value in enumerate(estimators_50N):\n",
    "    plt.text(index - 0.08, value + 0.01, str(\"{:.3f}\".format(value)), fontsize=16)\n",
    "for index, value in enumerate(estimators_100N):\n",
    "    plt.text(index + 0.16, value + 0.01, str(\"{:.3f}\".format(value)), fontsize=16)\n",
    "\n",
    "bars_10N_estimators = plt.bar(y_pos - 0.24, estimators_10N, 0.24, label = '10 trees', color = 'magenta')\n",
    "plt.bar(y_pos, estimators_50N, 0.24, label = '50 trees', color = 'orange')\n",
    "bars_100N_estimators = plt.bar(y_pos + 0.24, estimators_100N, 0.24, label = '100 trees', color = 'teal')\n",
    "\n",
    "plt.xticks(y_pos, objects)\n",
    "plt.ylim([0, 1.5])\n",
    "patterns = (\"o\", \"o\", \"o\")\n",
    "for i, x in zip(bars_10N_estimators,patterns):\n",
    "      i.set_hatch(x)\n",
    "patterns = (\"\\\\\", \"\\\\\", \"\\\\\")\n",
    "for i, x in zip(bars_100N_estimators,patterns):\n",
    "      i.set_hatch(x)\n",
    "plt.legend(fontsize = 20)\n",
    "#plt.margins(0.1,0)\n",
    "plt.savefig('../pics/ANN/activation_with_different_data.svg', bbox_inches='tight')\n",
    "plt.savefig('../pics/ANN/activation_with_different_data.pdf', bbox_inches='tight')\n",
    "plt.show()\n"
   ]
  },
  {
   "cell_type": "code",
   "execution_count": 197,
   "metadata": {},
   "outputs": [
    {
     "name": "stdout",
     "output_type": "stream",
     "text": [
      "0 10_trees__50_samples_data_Normalization\n",
      "1 15_trees__110_samples_data_Normalization\n",
      "2 20_trees__170_samples_data_Normalization\n"
     ]
    }
   ],
   "source": [
    "import joblib\n",
    "#chose these best model to save \n",
    "model_1N_normalization = np.array(his_1N_normalization_model, dtype=object)\n",
    "score_1N_normalization = np.array(his_1N_score)\n",
    "\n",
    "m_score_1N_normalization = max(score_1N_normalization)\n",
    "index_max_model_1N_normalization = np.where((score_1N_normalization == m_score_1N_normalization))[0]\n",
    "max_model_1N_normalization = model_1N_normalization[index_max_model_1N_normalization]  \n",
    "name_model__1N_normalization = []\n",
    "for i in index_max_model_1N_normalization:\n",
    "    s = str((i%3) * 5 + 10) + \"_trees_\" + \"_50_samples_data_Normalization\" \n",
    "    joblib.dump(his_1N_normalization_model[i], \"../results/model/data_Normalization/random_forest/50_samples/\" + s + \".joblib\")\n",
    "    print(i, s)\n",
    "\n",
    "model_2N_normalization = np.array(his_2N_normalization_model, dtype=object)\n",
    "score_2N_normalization = np.array(his_2N_score)\n",
    "m_score_2N_normalization = max(score_2N_normalization)\n",
    "index_max_model_2N_normalization = np.where((score_2N_normalization == m_score_2N_normalization))[0]\n",
    "max_model_2N_normalization = model_2N_normalization[index_max_model_2N_normalization]  \n",
    "name_model__2N_normalization = []\n",
    "for i in index_max_model_2N_normalization:\n",
    "    s = str((i%3) * 5 + 10) + \"_trees_\" + \"_110_samples_data_Normalization\" \n",
    "    joblib.dump(his_2N_normalization_model[i], \"../results/model/data_Normalization/random_forest/110_samples/\" + s + \".joblib\")\n",
    "    print(i, s)\n",
    "\n",
    "model_3N_normalization = np.array(his_3N_normalization_model, dtype=object)\n",
    "score_3N_normalization = np.array(his_3N_score)\n",
    "m_score_3N_normalization = max(score_3N_normalization)\n",
    "index_max_model_3N_normalization = np.where((score_3N_normalization == m_score_3N_normalization))[0]\n",
    "max_model_3N_normalization = model_3N_normalization[index_max_model_3N_normalization]  \n",
    "name_model__3N_normalization = []\n",
    "for i in index_max_model_3N_normalization:\n",
    "    s = str((i%3) * 5 + 10) + \"_trees_\" + \"_170_samples_data_Normalization\" \n",
    "    joblib.dump(his_3N_normalization_model[i], \"../results/model/data_Normalization/random_forest/170_samples/\" + s + \".joblib\")\n",
    "    print(i, s)\n",
    "\n"
   ]
  },
  {
   "cell_type": "code",
   "execution_count": 129,
   "metadata": {},
   "outputs": [],
   "source": []
  },
  {
   "cell_type": "code",
   "execution_count": 198,
   "metadata": {},
   "outputs": [
    {
     "name": "stdout",
     "output_type": "stream",
     "text": [
      "10_trees__50_samples_data_Normalization.joblib: 96.15384615384616%\n",
      "15_trees__110_samples_data_Normalization.joblib: 100.0%\n",
      "20_trees__170_samples_data_Normalization.joblib: 95.1923076923077%\n"
     ]
    }
   ],
   "source": [
    "#load model normalization\n",
    "import os\n",
    "\n",
    "X_test1, y_test1 = getTestDataNormalization(50)\n",
    "for file in os.listdir(\"../results/model/data_Normalization/random_forest/50_samples/\"):\n",
    "    if file.endswith(\".joblib\"):\n",
    "        test_model = joblib.load(\"../results/model/data_Normalization/random_forest/50_samples/\" + file)\n",
    "        test_score = predictRandomForest(test_model, X_test1, y_test1)\n",
    "        print(file + \": \" + str(test_score * 100) + \"%\")\n",
    "\n",
    "_, _, X_test2, y_test2 = getDataNormalization(110)\n",
    "for file in os.listdir(\"../results/model/data_Normalization/random_forest/110_samples/\"):\n",
    "    if file.endswith(\".joblib\"):\n",
    "        test_model = joblib.load(\"../results/model/data_Normalization/random_forest/110_samples/\" + file)\n",
    "        test_score = predictRandomForest(test_model, X_test2, y_test2)\n",
    "        print(file + \": \" + str(test_score * 100) + \"%\")\n",
    "\n",
    "X_test3, y_test3 = getTestDataNormalization(170)\n",
    "for file in os.listdir(\"../results/model/data_Normalization/random_forest/170_samples/\"):\n",
    "    if file.endswith(\".joblib\"):\n",
    "        test_model = joblib.load(\"../results/model/data_Normalization/random_forest/170_samples/\" + file)\n",
    "        test_score = predictRandomForest(test_model, X_test3, y_test3)\n",
    "        print(file + \": \" + str(test_score * 100) + \"%\")\n"
   ]
  },
  {
   "cell_type": "code",
   "execution_count": null,
   "metadata": {},
   "outputs": [],
   "source": []
  },
  {
   "cell_type": "code",
   "execution_count": null,
   "metadata": {},
   "outputs": [],
   "source": []
  }
 ],
 "metadata": {
  "kernelspec": {
   "display_name": "Python 3.9.12 ('tf')",
   "language": "python",
   "name": "python3"
  },
  "language_info": {
   "codemirror_mode": {
    "name": "ipython",
    "version": 3
   },
   "file_extension": ".py",
   "mimetype": "text/x-python",
   "name": "python",
   "nbconvert_exporter": "python",
   "pygments_lexer": "ipython3",
   "version": "3.9.12"
  },
  "vscode": {
   "interpreter": {
    "hash": "d2613572398aec075ef6cb2ad07817bdb07b2da97534164905966d4f52f67cbe"
   }
  }
 },
 "nbformat": 4,
 "nbformat_minor": 2
}
