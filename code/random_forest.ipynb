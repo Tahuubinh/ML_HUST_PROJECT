{
 "cells": [
  {
   "cell_type": "code",
   "execution_count": 1,
   "metadata": {},
   "outputs": [],
   "source": [
    "import matplotlib.pyplot as plt\n",
    "import numpy as np\n",
    "import pandas as pd\n",
    "import math \n",
    "import seaborn as sns\n",
    "from sklearn.metrics import ConfusionMatrixDisplay\n",
    "from sklearn.metrics import confusion_matrix\n",
    "from sklearn.ensemble import RandomForestClassifier"
   ]
  },
  {
   "cell_type": "code",
   "execution_count": 2,
   "metadata": {},
   "outputs": [],
   "source": [
    "def getData(num_samples):\n",
    "    save_folder = 'train_0.5_valid_0.7_test'\n",
    "    train_data = pd.read_csv('../data/' + save_folder + '/train_data_' + str(num_samples) + '_NaNmean.csv')\n",
    "    X_train = train_data.drop(['Species'], axis = 1).values\n",
    "    y_train = train_data[['Species']].copy().values\n",
    "    valid_data = pd.read_csv('../data/' + save_folder + '/valid_data_NaNmean.csv')\n",
    "    X_valid = valid_data.drop(['Species'], axis = 1).values\n",
    "    y_valid = valid_data[['Species']].copy().values\n",
    "\n",
    "    y_train = np.squeeze(y_train)\n",
    "    n_values = np.max(y_train) + 1\n",
    "    y_train = np.eye(n_values)[y_train]\n",
    "\n",
    "    y_valid = np.squeeze(y_valid)\n",
    "    n_values = np.max(y_valid) + 1\n",
    "    y_valid = np.eye(n_values)[y_valid]\n",
    "    return X_train, y_train, X_valid, y_valid\n",
    "\n",
    "def getDataNormalization(num_samples):\n",
    "    save_folder = 'train_0.5_valid_0.7_test'\n",
    "    train_data = pd.read_csv('../data/' + save_folder + '/train_data_' + str(num_samples) + '_Normalization.csv')\n",
    "    #X_train = train_data.drop(['Species', 'Delta 15 N (o/oo)', 'Delta 13 C (o/oo)'], axis = 1).values\n",
    "    X_train = train_data.drop(['Species'], axis = 1).values\n",
    "    y_train = train_data[['Species']].copy().values\n",
    "    valid_data = pd.read_csv('../data/' + save_folder + '/train_data_' + str(num_samples) + '_valid.csv')\n",
    "    #X_valid = valid_data.drop(['Species', 'Delta 15 N (o/oo)', 'Delta 13 C (o/oo)'], axis = 1).values\n",
    "    X_valid = valid_data.drop(['Species'], axis = 1).values\n",
    "    y_valid = valid_data[['Species']].copy().values\n",
    "    \n",
    "    # label should be int\n",
    "    y_train = np.floor(y_train + 1.1).astype(int)\n",
    "    y_train = np.squeeze(y_train)\n",
    "    n_values = np.max(y_train) + 1\n",
    "    y_train = np.eye(n_values)[y_train]\n",
    "    \n",
    "    # label should be int\n",
    "    y_valid = np.floor(y_valid + 1.1).astype(int)\n",
    "    y_valid = np.squeeze(y_valid)\n",
    "    n_values = np.max(y_valid) + 1\n",
    "    y_valid = np.eye(n_values)[y_valid]\n",
    "    return X_train, y_train, X_valid, y_valid"
   ]
  },
  {
   "cell_type": "code",
   "execution_count": 41,
   "metadata": {},
   "outputs": [],
   "source": [
    "\n",
    "def runRandomForest(n_estimators, criterion, X_train, y_train, X_valid, y_valid):\n",
    "    penguin = RandomForestClassifier(n_estimators=n_estimators, criterion=criterion)\n",
    "    penguin.fit(X_train,y_train)\n",
    "\n",
    "    y_predict = penguin.predict(X_valid)\n",
    "    y_predict = np.argmax(y_predict, axis=1)\n",
    "    y_test_label = np.argmax(y_valid, axis=1)\n",
    "\n",
    "    score = sum(y_predict==y_test_label)/y_valid.shape[0]\n",
    "\n",
    "    # labels = [\"Adelie\", \"Chinstrap\", \"Gentoo\"]\n",
    "\n",
    "    # cm = confusion_matrix(y_test_label, y_predict)\n",
    "\n",
    "    # disp = ConfusionMatrixDisplay(confusion_matrix=cm, display_labels=labels)\n",
    "\n",
    "    # disp.plot(cmap=plt.cm.Blues)\n",
    "    # # plt.savefig('../pics/random_forest/confusion_matrix')\n",
    "    # # plt.savefig('../pics/random_forest/confusion_matrix.pdf')\n",
    "    # plt.show()\n",
    "    return score"
   ]
  },
  {
   "cell_type": "code",
   "execution_count": 47,
   "metadata": {},
   "outputs": [
    {
     "name": "stdout",
     "output_type": "stream",
     "text": [
      "range(10, 101, 10)\n"
     ]
    },
    {
     "data": {
      "image/png": "[encoded data removed]",
      "text/plain": [
       "<Figure size 432x288 with 1 Axes>"
      ]
     },
     "metadata": {
      "needs_background": "light"
     },
     "output_type": "display_data"
    }
   ],
   "source": [
    "X_train, y_train, X_valid, y_valid = getData(50)\n",
    "his_1_score = []\n",
    "n_estimators = range(10, 101, 10)\n",
    "print(n_estimators)\n",
    "for i in n_estimators:\n",
    "    his_1 = runRandomForest(i, 'gini', X_train, y_train, X_valid, y_valid)\n",
    "    his_1_score.append(his_1)\n",
    "\n",
    "plt.plot(n_estimators,his_1_score, 'g', label='criterion = gini', marker='.')\n",
    "plt.xlabel('n_estimators')\n",
    "plt.ylabel('Validation accuracy')\n",
    "plt.ylim(0, 1.1)\n",
    "plt.legend()\n",
    "plt.show()"
   ]
  }
 ],
 "metadata": {
  "kernelspec": {
   "display_name": "Python 3.9.12 ('tf')",
   "language": "python",
   "name": "python3"
  },
  "language_info": {
   "codemirror_mode": {
    "name": "ipython",
    "version": 3
   },
   "file_extension": ".py",
   "mimetype": "text/x-python",
   "name": "python",
   "nbconvert_exporter": "python",
   "pygments_lexer": "ipython3",
   "version": "3.9.12"
  },
  "vscode": {
   "interpreter": {
    "hash": "d2613572398aec075ef6cb2ad07817bdb07b2da97534164905966d4f52f67cbe"
   }
  }
 },
 "nbformat": 4,
 "nbformat_minor": 2
}
