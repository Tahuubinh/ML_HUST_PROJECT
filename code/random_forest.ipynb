{
 "cells": [
  {
   "cell_type": "code",
   "execution_count": 28,
   "metadata": {},
   "outputs": [],
   "source": [
    "import matplotlib.pyplot as plt\n",
    "import numpy as np\n",
    "import pandas as pd\n",
    "import math \n",
    "import seaborn as sns\n",
    "\n",
    "from sklearn.ensemble import RandomForestClassifier"
   ]
  },
  {
   "cell_type": "code",
   "execution_count": 31,
   "metadata": {},
   "outputs": [],
   "source": [
    "save_folder = 'data_nan_mean_no_Island_70_percent'\n",
    "X_train = pd.read_csv('../data/' + save_folder + '/X_train.csv').values\n",
    "y_train = pd.read_csv('../data/' + save_folder + '/y_train.csv').values\n",
    "X_test = pd.read_csv('../data/' + save_folder + '/X_test.csv').values\n",
    "y_test = pd.read_csv('../data/' + save_folder + '/y_test.csv').values\n",
    "\n",
    "\n",
    "y_train = np.squeeze(y_train)\n",
    "n_values = np.max(y_train) + 1\n",
    "y_train = np.eye(n_values)[y_train]\n",
    "\n",
    "\n",
    "y_test = np.squeeze(y_test)\n",
    "n_values = np.max(y_test) + 1\n",
    "y_test = np.eye(n_values)[y_test]"
   ]
  },
  {
   "cell_type": "code",
   "execution_count": null,
   "metadata": {},
   "outputs": [],
   "source": []
  },
  {
   "cell_type": "code",
   "execution_count": 34,
   "metadata": {},
   "outputs": [
    {
     "data": {
      "image/png": "[encoded data removed]",
      "text/plain": [
       "<Figure size 432x288 with 2 Axes>"
      ]
     },
     "metadata": {
      "needs_background": "light"
     },
     "output_type": "display_data"
    }
   ],
   "source": [
    "from sklearn.metrics import ConfusionMatrixDisplay\n",
    "from sklearn.metrics import confusion_matrix\n",
    "import matplotlib.pyplot as plt\n",
    "\n",
    "drugTree = RandomForestClassifier(n_estimators=100)\n",
    "drugTree.fit(X_train,y_train)\n",
    "\n",
    "y_predict = drugTree.predict(X_test)\n",
    "y_predict = np.argmax(y_predict, axis=1)\n",
    "y_test_label = np.argmax(y_test, axis=1)\n",
    "\n",
    "\n",
    "labels = [\"Adelie\", \"Chinstrap\", \"Gentoo\"]\n",
    "\n",
    "cm = confusion_matrix(y_test_label, y_predict)\n",
    "\n",
    "disp = ConfusionMatrixDisplay(confusion_matrix=cm, display_labels=labels)\n",
    "\n",
    "disp.plot(cmap=plt.cm.Blues)\n",
    "# plt.savefig('../pics/random_forest/confusion_matrix')\n",
    "# plt.savefig('../pics/random_forest/confusion_matrix.pdf')\n",
    "plt.show()"
   ]
  },
  {
   "cell_type": "code",
   "execution_count": null,
   "metadata": {},
   "outputs": [],
   "source": []
  }
 ],
 "metadata": {
  "kernelspec": {
   "display_name": "ml_env",
   "language": "python",
   "name": "ml_env"
  },
  "language_info": {
   "codemirror_mode": {
    "name": "ipython",
    "version": 3
   },
   "file_extension": ".py",
   "mimetype": "text/x-python",
   "name": "python",
   "nbconvert_exporter": "python",
   "pygments_lexer": "ipython3",
   "version": "3.9.12"
  }
 },
 "nbformat": 4,
 "nbformat_minor": 2
}
