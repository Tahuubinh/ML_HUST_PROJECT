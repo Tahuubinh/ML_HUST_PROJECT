{
 "cells": [
  {
   "cell_type": "code",
   "execution_count": 46,
   "id": "68e0be58",
   "metadata": {},
   "outputs": [],
   "source": [
    "import numpy as np \n",
    "import pandas as pd \n",
    "import seaborn as sns\n",
    "from matplotlib import pyplot as plt\n",
    "from sklearn.cluster import KMeans\n",
    "from sklearn.preprocessing import LabelEncoder\n",
    "from sklearn.metrics import classification_report\n",
    "from sklearn.metrics import accuracy_score\n",
    "from sklearn.datasets import load_iris\n",
    "from sklearn.model_selection import train_test_split\n",
    "\n",
    "# store dataset in variable iris\n",
    "iris = load_iris()"
   ]
  },
  {
   "cell_type": "code",
   "execution_count": 36,
   "id": "bb641f82",
   "metadata": {},
   "outputs": [],
   "source": [
    "X = iris.data\n",
    "y = iris.target\n",
    "X_train, X_test, y_train, y_test = train_test_split(X, y, random_state = 1)"
   ]
  },
  {
   "cell_type": "code",
   "execution_count": 39,
   "id": "2669adef",
   "metadata": {},
   "outputs": [
    {
     "data": {
      "text/plain": [
       "array([1, 2, 0, 1, 1, 2, 2, 1, 0, 2, 2, 0, 0, 0, 2, 2, 0, 2, 2, 0, 0, 0,\n",
       "       0, 0, 0, 0, 2, 0, 0, 2, 1, 2, 2, 1, 0, 0, 1, 0, 1, 1, 0, 0, 0, 2,\n",
       "       2, 2, 2, 0, 1, 1], dtype=int64)"
      ]
     },
     "execution_count": 39,
     "metadata": {},
     "output_type": "execute_result"
    }
   ],
   "source": [
    "y_train"
   ]
  },
  {
   "cell_type": "code",
   "execution_count": 18,
   "id": "232427f4",
   "metadata": {},
   "outputs": [],
   "source": [
    "#KMeans\n",
    "\n",
    "kmeans = KMeans(n_clusters=3)\n",
    "kmeans.fit(X_train)\n",
    "\n",
    "# training predictions\n",
    "train_labels= kmeans.predict(X_train)\n",
    "\n",
    "#testing predictions\n",
    "test_labels = kmeans.predict(X_test)"
   ]
  },
  {
   "cell_type": "code",
   "execution_count": 19,
   "id": "3b27320f",
   "metadata": {},
   "outputs": [
    {
     "name": "stdout",
     "output_type": "stream",
     "text": [
      "88.39285714285714\n",
      "92.10526315789474\n"
     ]
    }
   ],
   "source": [
    "#KMeans model accuracy\n",
    "\n",
    "#training accuracy\n",
    "print(accuracy_score(y_train, train_labels)*100)\n",
    "#testing accuracy\n",
    "print(accuracy_score(y_test, test_labels)*100)"
   ]
  },
  {
   "cell_type": "code",
   "execution_count": 28,
   "id": "02881be9",
   "metadata": {
    "collapsed": true
   },
   "outputs": [
    {
     "data": {
      "text/plain": [
       "(array([[1],\n",
       "        [2],\n",
       "        [0],\n",
       "        [1],\n",
       "        [1],\n",
       "        [2],\n",
       "        [2],\n",
       "        [1],\n",
       "        [0],\n",
       "        [2],\n",
       "        [2],\n",
       "        [0],\n",
       "        [0],\n",
       "        [0],\n",
       "        [2],\n",
       "        [2],\n",
       "        [0],\n",
       "        [2],\n",
       "        [2],\n",
       "        [0],\n",
       "        [0],\n",
       "        [0],\n",
       "        [0],\n",
       "        [0],\n",
       "        [0],\n",
       "        [0],\n",
       "        [2],\n",
       "        [0],\n",
       "        [0],\n",
       "        [2],\n",
       "        [1],\n",
       "        [2],\n",
       "        [2],\n",
       "        [1],\n",
       "        [0],\n",
       "        [0],\n",
       "        [1],\n",
       "        [0],\n",
       "        [1],\n",
       "        [1],\n",
       "        [0],\n",
       "        [0],\n",
       "        [0],\n",
       "        [2],\n",
       "        [2],\n",
       "        [2],\n",
       "        [2],\n",
       "        [0],\n",
       "        [1],\n",
       "        [1]], dtype=int64),\n",
       " array([1, 1, 2, 1, 2, 0, 0, 2, 2, 1, 0, 2, 1, 2, 0, 1, 2, 1, 1, 1, 1, 2,\n",
       "        2, 2, 2, 2, 0, 1, 1, 1, 1, 0, 1, 2, 1, 2, 2, 2, 1, 2, 2, 1, 1, 1,\n",
       "        0, 0, 1, 2, 2, 2]))"
      ]
     },
     "execution_count": 28,
     "metadata": {},
     "output_type": "execute_result"
    }
   ],
   "source": [
    "y_train, train_labels"
   ]
  },
  {
   "cell_type": "code",
   "execution_count": 21,
   "id": "b5fb319e",
   "metadata": {},
   "outputs": [
    {
     "data": {
      "text/plain": [
       "array([1, 2, 2, 0, 2, 2, 1, 2, 0, 0, 0, 1, 0, 0, 2, 2, 2, 2, 2, 1, 2, 1,\n",
       "       0, 2, 2, 0, 0, 2, 0, 2, 2, 1, 1, 2, 2, 0, 1, 1, 2, 1, 2, 1, 0, 0,\n",
       "       0, 2, 0, 1, 2, 2, 0, 0, 1, 0, 2, 1, 2, 2, 1, 2, 2, 1, 0, 1, 0, 1,\n",
       "       1, 0, 1, 0, 0, 2, 2, 2, 0, 0, 1, 0, 2, 0, 2, 2, 0, 2, 0, 1, 0, 1,\n",
       "       1, 0, 0, 1, 0, 1, 1, 0, 1, 1, 1, 1, 2, 0, 0, 2, 1, 2, 1, 2, 2, 1,\n",
       "       2, 0])"
      ]
     },
     "execution_count": 21,
     "metadata": {},
     "output_type": "execute_result"
    }
   ],
   "source": [
    "y_train"
   ]
  },
  {
   "cell_type": "code",
   "execution_count": 169,
   "id": "7f583c10",
   "metadata": {},
   "outputs": [],
   "source": [
    "save_folder = 'train_0.5_valid_0.7_test'\n",
    "train_data = pd.read_csv('../data/' + save_folder + '/train_data_170_Normalization.csv')\n",
    "X_train = train_data.drop(['Species'], axis = 1).values\n",
    "y_train = train_data[['Species']].copy().values\n",
    "valid_data = pd.read_csv('../data/' + save_folder + '/train_data_170_test.csv')\n",
    "X_valid = valid_data.drop(['Species'], axis = 1).values\n",
    "y_valid = valid_data[['Species']].copy().values\n",
    "\n",
    "y_train = np.squeeze(y_train)\n",
    "\n",
    "y_valid = np.squeeze(y_valid)"
   ]
  },
  {
   "cell_type": "code",
   "execution_count": 170,
   "id": "00eb6ac9",
   "metadata": {},
   "outputs": [],
   "source": [
    "#KMeans\n",
    "\n",
    "kmeans = KMeans(n_clusters=3, max_iter = 300)\n",
    "kmeans.fit(X_train, [1,1,1,1,0.1,0.1,1])\n",
    "kmeans.fit(X_train)\n",
    "\n",
    "# training predictions\n",
    "train_labels= kmeans.predict(X_train)\n",
    "\n",
    "#testing predictions\n",
    "valid_labels = kmeans.predict(X_valid)\n",
    "a = train_labels\n",
    "b = valid_labels"
   ]
  },
  {
   "cell_type": "code",
   "execution_count": 174,
   "id": "b45a2db1",
   "metadata": {},
   "outputs": [
    {
     "name": "stdout",
     "output_type": "stream",
     "text": [
      "98.82352941176471\n",
      "95.1923076923077\n"
     ]
    }
   ],
   "source": [
    "#KMeans model accuracy\n",
    "\n",
    "#training accuracy\n",
    "#print(accuracy_score(y_train, train_labels)*100)\n",
    "#testing accuracy\n",
    "#print(accuracy_score(y_valid, valid_labels)*100)\n",
    "print(accuracy_score(np.floor(y_train + 1.1).astype(int), a)*100)\n",
    "print(accuracy_score(np.floor(y_valid + 1.1).astype(int), b)*100)"
   ]
  },
  {
   "cell_type": "code",
   "execution_count": 172,
   "id": "d58c132e",
   "metadata": {},
   "outputs": [],
   "source": [
    "a = train_labels\n",
    "for i, v in enumerate(a):\n",
    "    if v == 2:\n",
    "        a[i] = 3\n",
    "\n",
    "for i, v in enumerate(a):\n",
    "    if v == 1:\n",
    "        a[i] = 2\n",
    "        \n",
    "for i, v in enumerate(a):\n",
    "    if v == 3:\n",
    "        a[i] = 1"
   ]
  },
  {
   "cell_type": "code",
   "execution_count": 173,
   "id": "0c392705",
   "metadata": {},
   "outputs": [],
   "source": [
    "b = valid_labels\n",
    "for i, v in enumerate(b):\n",
    "    if v == 2:\n",
    "        b[i] = 3\n",
    "\n",
    "for i, v in enumerate(b):\n",
    "    if v == 1:\n",
    "        b[i] = 2\n",
    "        \n",
    "for i, v in enumerate(b):\n",
    "    if v == 3:\n",
    "        b[i] = 1"
   ]
  },
  {
   "cell_type": "code",
   "execution_count": 171,
   "id": "4095a504",
   "metadata": {},
   "outputs": [
    {
     "data": {
      "text/plain": [
       "{0: 73, 1: 61, 2: 36}"
      ]
     },
     "execution_count": 171,
     "metadata": {},
     "output_type": "execute_result"
    }
   ],
   "source": [
    "#train_labels = accuracy_score(np.floor(y_train + 1.1).astype(int)\n",
    "unique, counts = np.unique(a, return_counts=True)\n",
    "dict(zip(unique, counts))"
   ]
  },
  {
   "cell_type": "code",
   "execution_count": 167,
   "id": "a0266d35",
   "metadata": {},
   "outputs": [
    {
     "data": {
      "text/plain": [
       "(array([0, 1, 2, 0, 2, 0, 1, 2, 1, 1, 0, 0, 1, 2, 1, 0, 1, 1, 0, 0, 0, 2,\n",
       "        2, 1, 1, 2, 1, 1, 2, 2, 1, 2, 1, 1, 1, 1, 2, 0, 1, 0, 1, 2, 1, 0,\n",
       "        1, 2, 0, 2, 1, 2, 1, 1, 1, 0, 0, 0, 1, 1, 1, 0, 1, 2, 1, 0, 2, 1,\n",
       "        0, 1, 2, 0, 0, 1, 0, 1, 1, 2, 0, 1, 2, 0, 0, 1, 0, 2, 1, 0, 1, 0,\n",
       "        2, 0, 2, 1, 1, 1, 2, 0, 0, 0, 1, 0, 0, 1, 0, 0, 0, 0, 2, 1, 1, 2,\n",
       "        1, 1, 1, 2, 2, 0, 0, 1, 1, 1, 0, 0, 1, 1, 1, 1, 0, 2, 0, 0, 0, 0,\n",
       "        2, 1, 1, 2, 1, 2, 0, 2, 1, 1, 0, 0, 2, 1, 0, 1, 0, 0, 1, 0, 1, 1,\n",
       "        0, 0, 0, 2, 1, 0, 2, 1, 1, 1, 0, 0, 2, 1, 0, 1]),\n",
       " array([1, 2, 1, 0, 1, 2, 0, 1, 1, 1, 1, 1, 0, 0, 0, 2, 0, 0, 0, 1, 2, 2,\n",
       "        2, 2, 0, 1, 0, 0, 1, 1, 0, 1, 0, 1, 1, 2, 0, 2, 2, 1, 0, 1, 1, 0,\n",
       "        0, 1, 1, 1, 2, 1, 1, 1, 0, 0, 0, 2, 0, 2, 2, 0, 0, 1, 0, 1, 2, 1,\n",
       "        2, 0, 1, 1, 1, 2, 1, 0, 1, 1, 1, 2, 0, 1, 1, 1, 0, 0, 0, 1, 2, 1,\n",
       "        0, 0, 0, 0, 2, 2, 2, 0, 2, 2, 1, 0, 2, 1, 2, 0]))"
      ]
     },
     "execution_count": 167,
     "metadata": {},
     "output_type": "execute_result"
    }
   ],
   "source": [
    "a, b"
   ]
  },
  {
   "cell_type": "code",
   "execution_count": null,
   "id": "0d2e5505",
   "metadata": {},
   "outputs": [],
   "source": []
  }
 ],
 "metadata": {
  "kernelspec": {
   "display_name": "Python 3 (ipykernel)",
   "language": "python",
   "name": "python3"
  },
  "language_info": {
   "codemirror_mode": {
    "name": "ipython",
    "version": 3
   },
   "file_extension": ".py",
   "mimetype": "text/x-python",
   "name": "python",
   "nbconvert_exporter": "python",
   "pygments_lexer": "ipython3",
   "version": "3.9.7"
  }
 },
 "nbformat": 4,
 "nbformat_minor": 5
}
