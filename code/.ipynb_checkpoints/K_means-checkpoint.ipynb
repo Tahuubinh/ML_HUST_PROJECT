{
 "cells": [
  {
   "cell_type": "code",
   "execution_count": 1,
   "id": "68e0be58",
   "metadata": {},
   "outputs": [],
   "source": [
    "import numpy as np \n",
    "import pandas as pd \n",
    "import seaborn as sns\n",
    "from matplotlib import pyplot as plt\n",
    "from sklearn.cluster import KMeans\n",
    "from sklearn.preprocessing import LabelEncoder\n",
    "from sklearn.metrics import classification_report\n",
    "from sklearn.metrics import accuracy_score\n",
    "from sklearn.datasets import load_iris\n",
    "from sklearn.model_selection import train_test_split"
   ]
  },
  {
   "cell_type": "code",
   "execution_count": 2,
   "id": "7f583c10",
   "metadata": {},
   "outputs": [],
   "source": [
    "save_folder = 'train_0.5_valid_0.7_test'\n",
    "train_data = pd.read_csv('../data/' + save_folder + '/train_data_170_Normalization.csv')\n",
    "X_train = train_data.drop(['Species'], axis = 1).values\n",
    "y_train = train_data[['Species']].copy().values\n",
    "valid_data = pd.read_csv('../data/' + save_folder + '/train_data_170_test.csv')\n",
    "X_valid = valid_data.drop(['Species'], axis = 1).values\n",
    "y_valid = valid_data[['Species']].copy().values\n",
    "\n",
    "y_train = np.squeeze(y_train)\n",
    "\n",
    "y_valid = np.squeeze(y_valid)"
   ]
  },
  {
   "cell_type": "code",
   "execution_count": 170,
   "id": "00eb6ac9",
   "metadata": {},
   "outputs": [],
   "source": [
    "#KMeans\n",
    "\n",
    "kmeans = KMeans(n_clusters=3, max_iter = 300)\n",
    "kmeans.fit(X_train, [1,1,1,1,0.1,0.1,1])\n",
    "kmeans.fit(X_train)\n",
    "\n",
    "# training predictions\n",
    "train_labels= kmeans.predict(X_train)\n",
    "\n",
    "#testing predictions\n",
    "valid_labels = kmeans.predict(X_valid)\n",
    "a = train_labels\n",
    "b = valid_labels"
   ]
  },
  {
   "cell_type": "code",
   "execution_count": 174,
   "id": "b45a2db1",
   "metadata": {},
   "outputs": [
    {
     "name": "stdout",
     "output_type": "stream",
     "text": [
      "98.82352941176471\n",
      "95.1923076923077\n"
     ]
    }
   ],
   "source": [
    "#KMeans model accuracy\n",
    "\n",
    "#training accuracy\n",
    "#print(accuracy_score(y_train, train_labels)*100)\n",
    "#testing accuracy\n",
    "#print(accuracy_score(y_valid, valid_labels)*100)\n",
    "print(accuracy_score(np.floor(y_train + 1.1).astype(int), a)*100)\n",
    "print(accuracy_score(np.floor(y_valid + 1.1).astype(int), b)*100)"
   ]
  },
  {
   "cell_type": "code",
   "execution_count": 172,
   "id": "d58c132e",
   "metadata": {},
   "outputs": [],
   "source": [
    "a = train_labels\n",
    "for i, v in enumerate(a):\n",
    "    if v == 2:\n",
    "        a[i] = 3\n",
    "\n",
    "for i, v in enumerate(a):\n",
    "    if v == 1:\n",
    "        a[i] = 2\n",
    "        \n",
    "for i, v in enumerate(a):\n",
    "    if v == 3:\n",
    "        a[i] = 1"
   ]
  },
  {
   "cell_type": "code",
   "execution_count": 173,
   "id": "0c392705",
   "metadata": {},
   "outputs": [],
   "source": [
    "b = valid_labels\n",
    "for i, v in enumerate(b):\n",
    "    if v == 2:\n",
    "        b[i] = 3\n",
    "\n",
    "for i, v in enumerate(b):\n",
    "    if v == 1:\n",
    "        b[i] = 2\n",
    "        \n",
    "for i, v in enumerate(b):\n",
    "    if v == 3:\n",
    "        b[i] = 1"
   ]
  },
  {
   "cell_type": "code",
   "execution_count": 5,
   "id": "4095a504",
   "metadata": {},
   "outputs": [
    {
     "data": {
      "text/plain": [
       "{0: 73, 1: 61, 2: 36}"
      ]
     },
     "execution_count": 5,
     "metadata": {},
     "output_type": "execute_result"
    }
   ],
   "source": [
    "#train_labels = accuracy_score(np.floor(y_train + 1.1).astype(int)\n",
    "unique, counts = np.unique(a, return_counts=True)\n",
    "dict(zip(unique, counts))"
   ]
  },
  {
   "cell_type": "code",
   "execution_count": null,
   "id": "2bb9d094",
   "metadata": {},
   "outputs": [],
   "source": [
    "kmeans = KMeans(init='k-means++', n_clusters=3, max_iter = 300, algorithm = 'auto')\n",
    "kmeans.fit(X_train, [1,1,1,1,1,1,1])\n",
    "kmeans.fit(X_train)\n",
    "\n",
    "# training predictions\n",
    "train_labels= kmeans.predict(X_train)\n",
    "\n",
    "#testing predictions\n",
    "test_labels = kmeans.predict(X_test)\n",
    "\n",
    "unique, counts = np.unique(train_labels, return_counts=True)\n",
    "dict(zip(unique, counts))\n",
    "\n",
    "print(accuracy_score(np.floor(y_train + 1.1).astype(int), train_labels)*100)\n",
    "print(accuracy_score(np.floor(y_test + 1.1).astype(int), test_labels)*100)"
   ]
  },
  {
   "cell_type": "code",
   "execution_count": 11,
   "id": "50d76083",
   "metadata": {},
   "outputs": [],
   "source": [
    "save_folder = 'train_0.5_valid_0.7_test'\n",
    "train_data = pd.read_csv('../data/' + save_folder + '/train_data_170_Normalization.csv')\n",
    "X_train = train_data.drop(['Species'], axis = 1).values\n",
    "y_train = train_data[['Species']].copy().values\n",
    "test_data = pd.read_csv('../data/' + save_folder + '/train_data_170_test.csv')\n",
    "X_test = test_data.drop(['Species'], axis = 1).values\n",
    "y_test = test_data[['Species']].copy().values\n",
    "\n",
    "y_train = np.squeeze(y_train)\n",
    "\n",
    "y_test = np.squeeze(y_test)"
   ]
  },
  {
   "cell_type": "code",
   "execution_count": 18,
   "id": "365f8869",
   "metadata": {},
   "outputs": [],
   "source": [
    "def runKMeans(max_iter, algo, X_train, X_test, y_test):\n",
    "    kmeans = KMeans(init='k-means++', n_clusters=3, max_iter = max_iter, algorithm = algo)\n",
    "    kmeans.fit(X_train, [1,1,1,1,1,1,1])\n",
    "    kmeans.fit(X_train)\n",
    "\n",
    "    # training predictions\n",
    "    train_labels= kmeans.predict(X_train)\n",
    "\n",
    "    #testing predictions\n",
    "    test_labels = kmeans.predict(X_test)\n",
    "    \n",
    "    unique, counts = np.unique(a, return_counts=True)\n",
    "    dict(zip(unique, counts))\n",
    "    \n",
    "    print(accuracy_score(np.floor(y_train + 1.1).astype(int), train_labels)*100)\n",
    "    print(accuracy_score(np.floor(y_test + 1.1).astype(int), test_labels)*100)"
   ]
  },
  {
   "cell_type": "code",
   "execution_count": 22,
   "id": "b1eb9a1c",
   "metadata": {},
   "outputs": [
    {
     "name": "stdout",
     "output_type": "stream",
     "text": [
      "42.35294117647059\n",
      "39.42307692307692\n"
     ]
    }
   ],
   "source": [
    "runKMeans(300, 'auto', X_train, X_test, y_test)"
   ]
  },
  {
   "cell_type": "code",
   "execution_count": null,
   "id": "9b025e9b",
   "metadata": {},
   "outputs": [],
   "source": []
  }
 ],
 "metadata": {
  "kernelspec": {
   "display_name": "Python 3 (ipykernel)",
   "language": "python",
   "name": "python3"
  },
  "language_info": {
   "codemirror_mode": {
    "name": "ipython",
    "version": 3
   },
   "file_extension": ".py",
   "mimetype": "text/x-python",
   "name": "python",
   "nbconvert_exporter": "python",
   "pygments_lexer": "ipython3",
   "version": "3.9.7"
  }
 },
 "nbformat": 4,
 "nbformat_minor": 5
}
