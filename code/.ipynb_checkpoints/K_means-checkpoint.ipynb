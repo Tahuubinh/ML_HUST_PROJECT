{
 "cells": [
  {
   "cell_type": "code",
   "execution_count": 1,
   "id": "68e0be58",
   "metadata": {},
   "outputs": [],
   "source": [
    "import numpy as np \n",
    "import pandas as pd \n",
    "import seaborn as sns\n",
    "from matplotlib import pyplot as plt\n",
    "from sklearn.cluster import KMeans\n",
    "from sklearn.preprocessing import LabelEncoder\n",
    "from sklearn.metrics import classification_report\n",
    "from sklearn.metrics import accuracy_score\n",
    "from sklearn.datasets import load_iris\n",
    "from sklearn.model_selection import train_test_split"
   ]
  },
  {
   "cell_type": "markdown",
   "id": "166fdb9a",
   "metadata": {},
   "source": [
    "# Skip to the next Markdown to take experments"
   ]
  },
  {
   "cell_type": "code",
   "execution_count": 2,
   "id": "7f583c10",
   "metadata": {},
   "outputs": [],
   "source": [
    "save_folder = 'train_0.5_valid_0.7_test'\n",
    "train_data = pd.read_csv('../data/' + save_folder + '/train_data_170_Normalization.csv')\n",
    "X_train = train_data.drop(['Species'], axis = 1).values\n",
    "y_train = train_data[['Species']].copy().values\n",
    "valid_data = pd.read_csv('../data/' + save_folder + '/train_data_170_test.csv')\n",
    "X_valid = valid_data.drop(['Species'], axis = 1).values\n",
    "y_valid = valid_data[['Species']].copy().values\n",
    "\n",
    "y_train = np.squeeze(y_train)\n",
    "\n",
    "y_valid = np.squeeze(y_valid)"
   ]
  },
  {
   "cell_type": "code",
   "execution_count": 170,
   "id": "00eb6ac9",
   "metadata": {},
   "outputs": [],
   "source": [
    "#KMeans\n",
    "\n",
    "kmeans = KMeans(n_clusters=3, max_iter = 300)\n",
    "kmeans.fit(X_train, [1,1,1,1,0.1,0.1,1])\n",
    "kmeans.fit(X_train)\n",
    "\n",
    "# training predictions\n",
    "train_labels= kmeans.predict(X_train)\n",
    "\n",
    "#testing predictions\n",
    "valid_labels = kmeans.predict(X_valid)\n",
    "a = train_labels\n",
    "b = valid_labels"
   ]
  },
  {
   "cell_type": "code",
   "execution_count": 174,
   "id": "b45a2db1",
   "metadata": {},
   "outputs": [
    {
     "name": "stdout",
     "output_type": "stream",
     "text": [
      "98.82352941176471\n",
      "95.1923076923077\n"
     ]
    }
   ],
   "source": [
    "#KMeans model accuracy\n",
    "\n",
    "#training accuracy\n",
    "#print(accuracy_score(y_train, train_labels)*100)\n",
    "#testing accuracy\n",
    "#print(accuracy_score(y_valid, valid_labels)*100)\n",
    "print(accuracy_score(np.floor(y_train + 1.1).astype(int), a)*100)\n",
    "print(accuracy_score(np.floor(y_valid + 1.1).astype(int), b)*100)"
   ]
  },
  {
   "cell_type": "code",
   "execution_count": 172,
   "id": "d58c132e",
   "metadata": {},
   "outputs": [],
   "source": [
    "a = train_labels\n",
    "for i, v in enumerate(a):\n",
    "    if v == 2:\n",
    "        a[i] = 3\n",
    "\n",
    "for i, v in enumerate(a):\n",
    "    if v == 1:\n",
    "        a[i] = 2\n",
    "        \n",
    "for i, v in enumerate(a):\n",
    "    if v == 3:\n",
    "        a[i] = 1"
   ]
  },
  {
   "cell_type": "code",
   "execution_count": 173,
   "id": "0c392705",
   "metadata": {},
   "outputs": [],
   "source": [
    "b = valid_labels\n",
    "for i, v in enumerate(b):\n",
    "    if v == 2:\n",
    "        b[i] = 3\n",
    "\n",
    "for i, v in enumerate(b):\n",
    "    if v == 1:\n",
    "        b[i] = 2\n",
    "        \n",
    "for i, v in enumerate(b):\n",
    "    if v == 3:\n",
    "        b[i] = 1"
   ]
  },
  {
   "cell_type": "code",
   "execution_count": 5,
   "id": "4095a504",
   "metadata": {},
   "outputs": [
    {
     "data": {
      "text/plain": [
       "{0: 73, 1: 61, 2: 36}"
      ]
     },
     "execution_count": 5,
     "metadata": {},
     "output_type": "execute_result"
    }
   ],
   "source": [
    "#train_labels = accuracy_score(np.floor(y_train + 1.1).astype(int)\n",
    "unique, counts = np.unique(a, return_counts=True)\n",
    "dict(zip(unique, counts))"
   ]
  },
  {
   "cell_type": "code",
   "execution_count": 74,
   "id": "339c0fbd",
   "metadata": {
    "scrolled": true
   },
   "outputs": [
    {
     "name": "stdout",
     "output_type": "stream",
     "text": [
      "98.23529411764706\n",
      "95.1923076923077\n"
     ]
    }
   ],
   "source": [
    "kmeans = KMeans(init='k-means++', n_clusters=3, max_iter = 300, algorithm = 'auto')\n",
    "kmeans.fit(X_train, [1,1,1,1,1,1,1])\n",
    "kmeans.fit(X_train)\n",
    "\n",
    "# training predictions\n",
    "train_labels= kmeans.predict(X_train)\n",
    "\n",
    "#testing predictions\n",
    "test_labels = kmeans.predict(X_test)\n",
    "\n",
    "unique, counts = np.unique(train_labels, return_counts=True)\n",
    "dict_cluster_population = dict(zip(unique, counts))\n",
    "\n",
    "temp_labels = train_labels.copy() + 3\n",
    "test_temp = test_labels + 3\n",
    "key_0_true = max(dict_cluster_population, key=dict_cluster_population.get) + 3\n",
    "key_1_true = min(dict_cluster_population, key=dict_cluster_population.get) + 3\n",
    "key_2_true = 3 - key_0_true - key_1_true + 9\n",
    "\n",
    "for i, v in enumerate(temp_labels):\n",
    "    if v == key_0_true:\n",
    "        temp_labels[i] = 0\n",
    "    elif v == key_1_true:\n",
    "        temp_labels[i] = 1\n",
    "    else:\n",
    "        temp_labels[i] = 2\n",
    "        \n",
    "for i, v in enumerate(test_temp):\n",
    "    if v == key_0_true:\n",
    "        test_temp[i] = 0\n",
    "    elif v == key_1_true:\n",
    "        test_temp[i] = 1\n",
    "    else:\n",
    "        test_temp[i] = 2\n",
    "\n",
    "print(accuracy_score(np.floor(y_train + 1.1).astype(int), temp_labels)*100)\n",
    "print(accuracy_score(np.floor(y_test + 1.1).astype(int), test_temp)*100)"
   ]
  },
  {
   "cell_type": "code",
   "execution_count": 60,
   "id": "498c7bb8",
   "metadata": {},
   "outputs": [
    {
     "data": {
      "text/plain": [
       "array([1, 0, 2, 1, 2, 1, 0, 2, 0, 0, 1, 1, 0, 2, 0, 1, 0, 0, 1, 1, 1, 2,\n",
       "       2, 0, 0, 2, 0, 0, 2, 2, 0, 2, 0, 0, 0, 0, 2, 1, 0, 1, 0, 2, 0, 1,\n",
       "       0, 2, 1, 2, 0, 2, 0, 0, 0, 1, 1, 1, 0, 0, 0, 1, 0, 2, 0, 1, 2, 0,\n",
       "       1, 0, 2, 1, 1, 0, 1, 0, 0, 2, 1, 0, 2, 1, 1, 0, 1, 2, 0, 1, 0, 1,\n",
       "       2, 1, 2, 0, 0, 0, 2, 1, 1, 1, 0, 1, 1, 0, 1, 1, 1, 1, 2, 0, 0, 2,\n",
       "       0, 0, 0, 2, 2, 1, 1, 0, 0, 0, 1, 1, 0, 0, 0, 0, 1, 2, 1, 1, 1, 1,\n",
       "       2, 0, 0, 2, 0, 2, 1, 2, 0, 0, 1, 1, 2, 0, 1, 0, 1, 1, 0, 1, 0, 0,\n",
       "       1, 1, 1, 2, 0, 1, 2, 0, 0, 0, 1, 1, 2, 0, 1, 0])"
      ]
     },
     "execution_count": 60,
     "metadata": {},
     "output_type": "execute_result"
    }
   ],
   "source": [
    "temp_labels"
   ]
  },
  {
   "cell_type": "code",
   "execution_count": 77,
   "id": "ae337515",
   "metadata": {
    "scrolled": true
   },
   "outputs": [
    {
     "name": "stdout",
     "output_type": "stream",
     "text": [
      "98.23529411764706\n",
      "95.1923076923077\n"
     ]
    }
   ],
   "source": [
    "# train_labels += 3\n",
    "dict_cluster_population\n",
    "temp_labels = train_labels.copy() + 3\n",
    "test_temp = test_labels + 3\n",
    "key_0_true = max(dict_cluster_population, key=dict_cluster_population.get) + 3\n",
    "key_1_true = min(dict_cluster_population, key=dict_cluster_population.get) + 3\n",
    "key_2_true = 3 - key_0_true - key_1_true + 9\n",
    "\n",
    "for i, v in enumerate(temp_labels):\n",
    "    if v == key_0_true:\n",
    "        temp_labels[i] = 0\n",
    "    elif v == key_1_true:\n",
    "        temp_labels[i] = 1\n",
    "    else:\n",
    "        temp_labels[i] = 2\n",
    "        \n",
    "for i, v in enumerate(test_temp):\n",
    "    if v == key_0_true:\n",
    "        test_temp[i] = 0\n",
    "    elif v == key_1_true:\n",
    "        test_temp[i] = 1\n",
    "    else:\n",
    "        test_temp[i] = 2\n",
    "\n",
    "print(accuracy_score(np.floor(y_train + 1.1).astype(int), temp_labels)*100)\n",
    "print(accuracy_score(np.floor(y_test + 1.1).astype(int), test_temp)*100)"
   ]
  },
  {
   "cell_type": "markdown",
   "id": "78e6bedc",
   "metadata": {},
   "source": [
    "# Experiment part"
   ]
  },
  {
   "cell_type": "code",
   "execution_count": 2,
   "id": "b8c064e9",
   "metadata": {},
   "outputs": [],
   "source": [
    "# Keep the data\n",
    "save_folder = 'train_0.5_valid_0.7_test'\n",
    "train_data = pd.read_csv('../data/' + save_folder + '/train_data_170_Normalization.csv')\n",
    "X_train = train_data.drop(['Species'], axis = 1).values\n",
    "# X_train = train_data.drop(['Species', 'Culmen Length (mm)'], axis = 1).values\n",
    "y_train = train_data[['Species']].copy().values\n",
    "test_data = pd.read_csv('../data/' + save_folder + '/train_data_170_test.csv')\n",
    "X_test = test_data.drop(['Species'], axis = 1).values\n",
    "# X_test = test_data.drop(['Species', 'Culmen Length (mm)'], axis = 1).values\n",
    "y_test = test_data[['Species']].copy().values\n",
    "\n",
    "y_train = np.squeeze(y_train)\n",
    "\n",
    "y_test = np.squeeze(y_test)"
   ]
  },
  {
   "cell_type": "code",
   "execution_count": 156,
   "id": "8ec2a6a5",
   "metadata": {},
   "outputs": [],
   "source": [
    "# Remove culmen length\n",
    "save_folder = 'train_0.5_valid_0.7_test'\n",
    "train_data = pd.read_csv('../data/' + save_folder + '/train_data_170_Normalization.csv')\n",
    "X_train = train_data.drop(['Species', 'Culmen Length (mm)'], axis = 1).values\n",
    "y_train = train_data[['Species']].copy().values\n",
    "test_data = pd.read_csv('../data/' + save_folder + '/train_data_170_test.csv')\n",
    "X_test = test_data.drop(['Species', 'Culmen Length (mm)'], axis = 1).values\n",
    "y_test = test_data[['Species']].copy().values\n",
    "\n",
    "y_train = np.squeeze(y_train)\n",
    "\n",
    "y_test = np.squeeze(y_test)"
   ]
  },
  {
   "cell_type": "code",
   "execution_count": 3,
   "id": "4a698607",
   "metadata": {},
   "outputs": [],
   "source": [
    "def runKMeans(init, max_iter, algo, n_init, X_train, X_test, y_test):\n",
    "    kmeans = KMeans(init=init, n_clusters=3, max_iter = max_iter, algorithm = algo, n_init=n_init, tol = 0)\n",
    "    kmeans.fit(X_train)\n",
    "\n",
    "    # training predictions\n",
    "    train_labels= kmeans.predict(X_train)\n",
    "\n",
    "    #testing predictions\n",
    "    test_labels = kmeans.predict(X_test)\n",
    "\n",
    "    unique, counts = np.unique(train_labels, return_counts=True)\n",
    "    dict_cluster_population = dict(zip(unique, counts))\n",
    "\n",
    "    temp_labels = train_labels.copy() + 3\n",
    "    test_temp = test_labels + 3\n",
    "    key_0_true = max(dict_cluster_population, key=dict_cluster_population.get) + 3\n",
    "    key_1_true = min(dict_cluster_population, key=dict_cluster_population.get) + 3\n",
    "    key_2_true = 3 - key_0_true - key_1_true + 9\n",
    "\n",
    "    for i, v in enumerate(temp_labels):\n",
    "        if v == key_0_true:\n",
    "            temp_labels[i] = 0\n",
    "        elif v == key_1_true:\n",
    "            temp_labels[i] = 1\n",
    "        else:\n",
    "            temp_labels[i] = 2\n",
    "\n",
    "    for i, v in enumerate(test_temp):\n",
    "        if v == key_0_true:\n",
    "            test_temp[i] = 0\n",
    "        elif v == key_1_true:\n",
    "            test_temp[i] = 1\n",
    "        else:\n",
    "            test_temp[i] = 2\n",
    "\n",
    "    a = accuracy_score(np.floor(y_train + 1.1).astype(int), temp_labels)*100\n",
    "    b = accuracy_score(np.floor(y_test + 1.1).astype(int), test_temp)*100\n",
    "    return a, b, train_labels"
   ]
  },
  {
   "cell_type": "code",
   "execution_count": 4,
   "id": "bd56e685",
   "metadata": {},
   "outputs": [
    {
     "name": "stdout",
     "output_type": "stream",
     "text": [
      "1: 97.05882352941177 94.23076923076923\n",
      "2: 98.82352941176471 95.1923076923077\n",
      "3: 98.82352941176471 95.1923076923077\n",
      "4: 98.82352941176471 95.1923076923077\n",
      "5: 98.82352941176471 95.1923076923077\n",
      "6: 98.82352941176471 95.1923076923077\n",
      "7: 98.23529411764706 95.1923076923077\n",
      "8: 98.82352941176471 95.1923076923077\n",
      "9: 98.23529411764706 95.1923076923077\n",
      "10: 98.82352941176471 95.1923076923077\n"
     ]
    }
   ],
   "source": [
    "for i in range (1, 11):\n",
    "    list_a1 = list()\n",
    "    list_b1 = list()\n",
    "    print(i, end = ': ')\n",
    "    a, b, c = runKMeans('k-means++', i, 'auto', 10, X_train, X_test, y_test)\n",
    "    list_a1.append(a)\n",
    "    list_b1.append(b)\n",
    "    print(a, b)"
   ]
  },
  {
   "cell_type": "code",
   "execution_count": 14,
   "id": "dba77af2",
   "metadata": {},
   "outputs": [
    {
     "name": "stdout",
     "output_type": "stream",
     "text": [
      "1: 97.6470588235294 94.23076923076923\n",
      "2: 96.47058823529412 92.3076923076923\n",
      "3: 98.82352941176471 95.1923076923077\n",
      "4: 98.82352941176471 95.1923076923077\n",
      "5: 98.23529411764706 95.1923076923077\n",
      "6: 98.82352941176471 95.1923076923077\n",
      "7: 98.82352941176471 95.1923076923077\n",
      "8: 98.23529411764706 95.1923076923077\n",
      "9: 98.82352941176471 95.1923076923077\n",
      "10: 98.82352941176471 95.1923076923077\n"
     ]
    }
   ],
   "source": [
    "for i in range (1, 11):\n",
    "    list_a2 = list()\n",
    "    list_b2 = list()\n",
    "    print(i, end = ': ')\n",
    "    a, b, d = runKMeans('random', i, 'auto', 10, X_train, X_test, y_test)\n",
    "    list_a2.append(a)\n",
    "    list_b2.append(b)\n",
    "    print(a, b)"
   ]
  },
  {
   "cell_type": "code",
   "execution_count": 153,
   "id": "aed661d3",
   "metadata": {},
   "outputs": [
    {
     "name": "stdout",
     "output_type": "stream",
     "text": [
      "1: 9.411764705882353 10.576923076923077\n",
      "2: 9.411764705882353 10.576923076923077\n",
      "3: 92.3529411764706 85.57692307692307\n",
      "4: 20.0 20.192307692307693\n",
      "5: 92.3529411764706 85.57692307692307\n",
      "6: 9.411764705882353 10.576923076923077\n",
      "7: 9.411764705882353 10.576923076923077\n",
      "8: 9.411764705882353 10.576923076923077\n",
      "9: 9.411764705882353 10.576923076923077\n",
      "10: 9.411764705882353 10.576923076923077\n"
     ]
    }
   ],
   "source": [
    "for i in range (1, 11):\n",
    "    list_a3 = list()\n",
    "    list_b3 = list()\n",
    "    print(i, end = ': ')\n",
    "    a, b = runKMeans('k-means++', i, 'elkan', 3, X_train, X_test, y_test)\n",
    "    list_a3.append(a)\n",
    "    list_b3.append(b)\n",
    "    print(a, b)"
   ]
  },
  {
   "cell_type": "code",
   "execution_count": 5,
   "id": "c2b2aa62",
   "metadata": {},
   "outputs": [
    {
     "data": {
      "text/plain": [
       "array([1, 0, 2, 1, 2, 1, 0, 2, 0, 0, 1, 1, 0, 2, 0, 1, 0, 0, 1, 1, 1, 2,\n",
       "       2, 0, 0, 2, 0, 0, 2, 2, 0, 2, 0, 0, 0, 0, 2, 1, 0, 1, 0, 2, 0, 1,\n",
       "       0, 2, 1, 2, 0, 2, 0, 0, 0, 1, 1, 1, 0, 0, 0, 1, 0, 2, 0, 1, 2, 0,\n",
       "       1, 0, 2, 1, 1, 0, 1, 0, 0, 2, 1, 0, 2, 1, 1, 0, 1, 2, 0, 1, 0, 1,\n",
       "       2, 1, 2, 0, 0, 0, 2, 1, 1, 1, 0, 1, 1, 0, 1, 1, 1, 1, 2, 0, 0, 2,\n",
       "       0, 0, 0, 2, 2, 1, 1, 0, 0, 0, 1, 1, 0, 0, 0, 0, 1, 2, 1, 1, 1, 1,\n",
       "       0, 0, 0, 2, 0, 2, 1, 2, 0, 0, 1, 1, 2, 0, 1, 0, 1, 1, 0, 1, 0, 0,\n",
       "       1, 1, 1, 2, 0, 1, 2, 0, 0, 0, 1, 1, 2, 0, 1, 0])"
      ]
     },
     "execution_count": 5,
     "metadata": {},
     "output_type": "execute_result"
    }
   ],
   "source": [
    "c"
   ]
  },
  {
   "cell_type": "code",
   "execution_count": 15,
   "id": "0a2a5af8",
   "metadata": {},
   "outputs": [
    {
     "data": {
      "image/png": "[encoded data removed]",
      "text/plain": [
       "<Figure size 432x288 with 1 Axes>"
      ]
     },
     "metadata": {},
     "output_type": "display_data"
    }
   ],
   "source": [
    "len_c = len(c)\n",
    "cluster_A = np.count_nonzero(c == 0) / len_c\n",
    "cluster_B = np.count_nonzero(c == 1) / len_c\n",
    "cluster_C = 1 - cluster_A - cluster_B\n",
    "# species_list = list()\n",
    "# species_list.append((df_remove_spare_columns['Species'].values ==\n",
    "#                      'Adelie Penguin (Pygoscelis adeliae)').sum() / num_instances)\n",
    "# species_list.append((df_remove_spare_columns['Species'].values ==\n",
    "#                      'Chinstrap penguin (Pygoscelis antarctica)').sum() / num_instances)\n",
    "# species_list.append((df_remove_spare_columns['Species'].values ==\n",
    "#                      'Gentoo penguin (Pygoscelis papua)').sum() / num_instances)\n",
    "plt.pie([cluster_A, cluster_B, cluster_C], labels = ['Cluster 1', 'Cluster 2', 'Cluster 3'], \n",
    "        autopct='%1.1f%%', startangle=90, colors = ['green', 'orange', 'pink'])\n",
    "\n",
    "plt.savefig('../pics/K_Means/full_pie.svg', bbox_inches='tight')\n",
    "plt.savefig('../pics/K_Means/full_pie.pdf', bbox_inches='tight')"
   ]
  },
  {
   "cell_type": "code",
   "execution_count": null,
   "id": "1a15496a",
   "metadata": {},
   "outputs": [],
   "source": [
    "for i in range (1, 11):\n",
    "    list_a1 = list()\n",
    "    list_b1 = list()\n",
    "    print(i, end = ': ')\n",
    "    a, b, c = runKMeans('k-means++', i, 'auto', 10, X_train, X_test, y_test)\n",
    "    list_a1.append(a)\n",
    "    list_b1.append(b)\n",
    "    print(a, b)"
   ]
  },
  {
   "cell_type": "code",
   "execution_count": null,
   "id": "06070a0f",
   "metadata": {},
   "outputs": [],
   "source": [
    "for i in range (1, 11):\n",
    "    list_a3 = list()\n",
    "    list_b3 = list()\n",
    "    print(i, end = ': ')\n",
    "    a, b = runKMeans('k-means++', i, 'elkan', 3, X_train, X_test, y_test)\n",
    "    list_a3.append(a)\n",
    "    list_b3.append(b)\n",
    "    print(a, b)"
   ]
  }
 ],
 "metadata": {
  "kernelspec": {
   "display_name": "Python 3 (ipykernel)",
   "language": "python",
   "name": "python3"
  },
  "language_info": {
   "codemirror_mode": {
    "name": "ipython",
    "version": 3
   },
   "file_extension": ".py",
   "mimetype": "text/x-python",
   "name": "python",
   "nbconvert_exporter": "python",
   "pygments_lexer": "ipython3",
   "version": "3.9.7"
  }
 },
 "nbformat": 4,
 "nbformat_minor": 5
}
