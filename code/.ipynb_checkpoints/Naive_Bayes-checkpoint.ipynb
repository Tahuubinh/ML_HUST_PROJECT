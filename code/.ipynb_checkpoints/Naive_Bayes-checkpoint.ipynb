{
 "cells": [
  {
   "cell_type": "code",
   "execution_count": 1,
   "id": "b4f130b1",
   "metadata": {},
   "outputs": [],
   "source": [
    "import numpy as np\n",
    "\n",
    "from sklearn.datasets import load_iris\n",
    "from sklearn.preprocessing import LabelBinarizer\n",
    "from sklearn.model_selection import train_test_split \n",
    "from sklearn.metrics import classification_report\n",
    "from sklearn.preprocessing import OneHotEncoder\n",
    "from sklearn import metrics\n",
    "from sklearn.naive_bayes import GaussianNB\n",
    "import pandas as pd\n",
    "from matplotlib import pyplot as plt"
   ]
  },
  {
   "cell_type": "code",
   "execution_count": 4,
   "id": "020ae77d",
   "metadata": {},
   "outputs": [],
   "source": [
    "save_folder = 'train_0.5_valid_0.7_test'\n",
    "train_data = pd.read_csv('../data/' + save_folder + '/train_data_50_NaNmean.csv')\n",
    "X_train = train_data.drop(['Species'], axis = 1).values\n",
    "y_train = train_data[['Species']].copy().values\n",
    "valid_data = pd.read_csv('../data/' + save_folder + '/test_data_NaNmean.csv')\n",
    "X_valid = valid_data.drop(['Species'], axis = 1).values\n",
    "y_valid = valid_data[['Species']].copy().values\n",
    "\n",
    "# y_train = np.squeeze(y_train)\n",
    "# n_values = np.max(y_train) + 1\n",
    "# y_train = np.eye(n_values)[y_train]\n",
    "\n",
    "# y_valid = np.squeeze(y_valid)\n",
    "# n_values = np.max(y_valid) + 1\n",
    "# y_valid = np.eye(n_values)[y_valid]"
   ]
  },
  {
   "cell_type": "code",
   "execution_count": 7,
   "id": "362a9173",
   "metadata": {},
   "outputs": [
    {
     "name": "stdout",
     "output_type": "stream",
     "text": [
      "0.9615384615384616\n"
     ]
    },
    {
     "name": "stderr",
     "output_type": "stream",
     "text": [
      "C:\\Users\\MrBinh\\.conda\\envs\\Binh_python7\\lib\\site-packages\\sklearn\\utils\\validation.py:993: DataConversionWarning: A column-vector y was passed when a 1d array was expected. Please change the shape of y to (n_samples, ), for example using ravel().\n",
      "  y = column_or_1d(y, warn=True)\n"
     ]
    }
   ],
   "source": [
    "model = GaussianNB()\n",
    "model.fit(X_train, y_train)\n",
    "# GaussianNB(priors=None)\n",
    "\n",
    "# predict our sample\n",
    "y_pred = model.predict(X_valid)\n",
    "\n",
    "# evaluation our prediction\n",
    "print(metrics.accuracy_score(y_valid, y_pred))"
   ]
  },
  {
   "cell_type": "code",
   "execution_count": null,
   "id": "99aaa4c2",
   "metadata": {},
   "outputs": [],
   "source": []
  }
 ],
 "metadata": {
  "kernelspec": {
   "display_name": "Python 3 (ipykernel)",
   "language": "python",
   "name": "python3"
  },
  "language_info": {
   "codemirror_mode": {
    "name": "ipython",
    "version": 3
   },
   "file_extension": ".py",
   "mimetype": "text/x-python",
   "name": "python",
   "nbconvert_exporter": "python",
   "pygments_lexer": "ipython3",
   "version": "3.9.7"
  }
 },
 "nbformat": 4,
 "nbformat_minor": 5
}
